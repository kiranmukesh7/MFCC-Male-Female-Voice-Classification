{
  "nbformat": 4,
  "nbformat_minor": 0,
  "metadata": {
    "colab": {
      "name": "MFCC-Male-Female-Voice-Classification.ipynb",
      "provenance": [],
      "collapsed_sections": [
        "y8GzUBfgFE_D",
        "wsecbwqGFL8C",
        "f1P824fXGWlK",
        "q2U2xH9KGq2W",
        "q9b5gFak7-jt"
      ],
      "toc_visible": true
    },
    "kernelspec": {
      "display_name": "Python 3",
      "language": "python",
      "name": "python3"
    },
    "language_info": {
      "codemirror_mode": {
        "name": "ipython",
        "version": 3
      },
      "file_extension": ".py",
      "mimetype": "text/x-python",
      "name": "python",
      "nbconvert_exporter": "python",
      "pygments_lexer": "ipython3",
      "version": "3.6.5"
    },
    "widgets": {
      "application/vnd.jupyter.widget-state+json": {
        "81d3c994f3e641d49ad3654d79c1c24e": {
          "model_module": "@jupyter-widgets/controls",
          "model_name": "HBoxModel",
          "state": {
            "_dom_classes": [],
            "_model_module": "@jupyter-widgets/controls",
            "_model_module_version": "1.5.0",
            "_model_name": "HBoxModel",
            "_view_count": null,
            "_view_module": "@jupyter-widgets/controls",
            "_view_module_version": "1.5.0",
            "_view_name": "HBoxView",
            "box_style": "",
            "children": [
              "IPY_MODEL_85573fb366514a389e11d1e5013762d6",
              "IPY_MODEL_50623542075547e1b0db96bdd2675c15"
            ],
            "layout": "IPY_MODEL_adf39ad837b640a8b2ece8edeb5b393e"
          }
        },
        "adf39ad837b640a8b2ece8edeb5b393e": {
          "model_module": "@jupyter-widgets/base",
          "model_name": "LayoutModel",
          "state": {
            "_model_module": "@jupyter-widgets/base",
            "_model_module_version": "1.2.0",
            "_model_name": "LayoutModel",
            "_view_count": null,
            "_view_module": "@jupyter-widgets/base",
            "_view_module_version": "1.2.0",
            "_view_name": "LayoutView",
            "align_content": null,
            "align_items": null,
            "align_self": null,
            "border": null,
            "bottom": null,
            "display": null,
            "flex": null,
            "flex_flow": null,
            "grid_area": null,
            "grid_auto_columns": null,
            "grid_auto_flow": null,
            "grid_auto_rows": null,
            "grid_column": null,
            "grid_gap": null,
            "grid_row": null,
            "grid_template_areas": null,
            "grid_template_columns": null,
            "grid_template_rows": null,
            "height": null,
            "justify_content": null,
            "justify_items": null,
            "left": null,
            "margin": null,
            "max_height": null,
            "max_width": null,
            "min_height": null,
            "min_width": null,
            "object_fit": null,
            "object_position": null,
            "order": null,
            "overflow": null,
            "overflow_x": null,
            "overflow_y": null,
            "padding": null,
            "right": null,
            "top": null,
            "visibility": null,
            "width": null
          }
        },
        "85573fb366514a389e11d1e5013762d6": {
          "model_module": "@jupyter-widgets/controls",
          "model_name": "IntProgressModel",
          "state": {
            "_dom_classes": [],
            "_model_module": "@jupyter-widgets/controls",
            "_model_module_version": "1.5.0",
            "_model_name": "IntProgressModel",
            "_view_count": null,
            "_view_module": "@jupyter-widgets/controls",
            "_view_module_version": "1.5.0",
            "_view_name": "ProgressView",
            "bar_style": "success",
            "description": "100%",
            "description_tooltip": null,
            "layout": "IPY_MODEL_782cb2780b4a4b259c9491ca2030d5d1",
            "max": 2000,
            "min": 0,
            "orientation": "horizontal",
            "style": "IPY_MODEL_66a2bcedd5414ab5b4514bc8b62a1fcb",
            "value": 2000
          }
        },
        "50623542075547e1b0db96bdd2675c15": {
          "model_module": "@jupyter-widgets/controls",
          "model_name": "HTMLModel",
          "state": {
            "_dom_classes": [],
            "_model_module": "@jupyter-widgets/controls",
            "_model_module_version": "1.5.0",
            "_model_name": "HTMLModel",
            "_view_count": null,
            "_view_module": "@jupyter-widgets/controls",
            "_view_module_version": "1.5.0",
            "_view_name": "HTMLView",
            "description": "",
            "description_tooltip": null,
            "layout": "IPY_MODEL_1e902bab9a724023ab7a6b3305667c89",
            "placeholder": "​",
            "style": "IPY_MODEL_30d25ff9e96a48958d83273af82d4f04",
            "value": " 2000/2000 [00:04&lt;00:00, 423.87epoch/s]"
          }
        },
        "66a2bcedd5414ab5b4514bc8b62a1fcb": {
          "model_module": "@jupyter-widgets/controls",
          "model_name": "ProgressStyleModel",
          "state": {
            "_model_module": "@jupyter-widgets/controls",
            "_model_module_version": "1.5.0",
            "_model_name": "ProgressStyleModel",
            "_view_count": null,
            "_view_module": "@jupyter-widgets/base",
            "_view_module_version": "1.2.0",
            "_view_name": "StyleView",
            "bar_color": null,
            "description_width": "initial"
          }
        },
        "782cb2780b4a4b259c9491ca2030d5d1": {
          "model_module": "@jupyter-widgets/base",
          "model_name": "LayoutModel",
          "state": {
            "_model_module": "@jupyter-widgets/base",
            "_model_module_version": "1.2.0",
            "_model_name": "LayoutModel",
            "_view_count": null,
            "_view_module": "@jupyter-widgets/base",
            "_view_module_version": "1.2.0",
            "_view_name": "LayoutView",
            "align_content": null,
            "align_items": null,
            "align_self": null,
            "border": null,
            "bottom": null,
            "display": null,
            "flex": null,
            "flex_flow": null,
            "grid_area": null,
            "grid_auto_columns": null,
            "grid_auto_flow": null,
            "grid_auto_rows": null,
            "grid_column": null,
            "grid_gap": null,
            "grid_row": null,
            "grid_template_areas": null,
            "grid_template_columns": null,
            "grid_template_rows": null,
            "height": null,
            "justify_content": null,
            "justify_items": null,
            "left": null,
            "margin": null,
            "max_height": null,
            "max_width": null,
            "min_height": null,
            "min_width": null,
            "object_fit": null,
            "object_position": null,
            "order": null,
            "overflow": null,
            "overflow_x": null,
            "overflow_y": null,
            "padding": null,
            "right": null,
            "top": null,
            "visibility": null,
            "width": null
          }
        },
        "30d25ff9e96a48958d83273af82d4f04": {
          "model_module": "@jupyter-widgets/controls",
          "model_name": "DescriptionStyleModel",
          "state": {
            "_model_module": "@jupyter-widgets/controls",
            "_model_module_version": "1.5.0",
            "_model_name": "DescriptionStyleModel",
            "_view_count": null,
            "_view_module": "@jupyter-widgets/base",
            "_view_module_version": "1.2.0",
            "_view_name": "StyleView",
            "description_width": ""
          }
        },
        "1e902bab9a724023ab7a6b3305667c89": {
          "model_module": "@jupyter-widgets/base",
          "model_name": "LayoutModel",
          "state": {
            "_model_module": "@jupyter-widgets/base",
            "_model_module_version": "1.2.0",
            "_model_name": "LayoutModel",
            "_view_count": null,
            "_view_module": "@jupyter-widgets/base",
            "_view_module_version": "1.2.0",
            "_view_name": "LayoutView",
            "align_content": null,
            "align_items": null,
            "align_self": null,
            "border": null,
            "bottom": null,
            "display": null,
            "flex": null,
            "flex_flow": null,
            "grid_area": null,
            "grid_auto_columns": null,
            "grid_auto_flow": null,
            "grid_auto_rows": null,
            "grid_column": null,
            "grid_gap": null,
            "grid_row": null,
            "grid_template_areas": null,
            "grid_template_columns": null,
            "grid_template_rows": null,
            "height": null,
            "justify_content": null,
            "justify_items": null,
            "left": null,
            "margin": null,
            "max_height": null,
            "max_width": null,
            "min_height": null,
            "min_width": null,
            "object_fit": null,
            "object_position": null,
            "order": null,
            "overflow": null,
            "overflow_x": null,
            "overflow_y": null,
            "padding": null,
            "right": null,
            "top": null,
            "visibility": null,
            "width": null
          }
        },
        "e1bfd86e92684468a6923ed11d51d126": {
          "model_module": "@jupyter-widgets/controls",
          "model_name": "HBoxModel",
          "state": {
            "_dom_classes": [],
            "_model_module": "@jupyter-widgets/controls",
            "_model_module_version": "1.5.0",
            "_model_name": "HBoxModel",
            "_view_count": null,
            "_view_module": "@jupyter-widgets/controls",
            "_view_module_version": "1.5.0",
            "_view_name": "HBoxView",
            "box_style": "",
            "children": [
              "IPY_MODEL_a4588e263f5947998d8261ee00d2329d",
              "IPY_MODEL_ed6ce4b5e1be456f898797cab279f253"
            ],
            "layout": "IPY_MODEL_ce173568645b44dda78f500c0b578e19"
          }
        },
        "ce173568645b44dda78f500c0b578e19": {
          "model_module": "@jupyter-widgets/base",
          "model_name": "LayoutModel",
          "state": {
            "_model_module": "@jupyter-widgets/base",
            "_model_module_version": "1.2.0",
            "_model_name": "LayoutModel",
            "_view_count": null,
            "_view_module": "@jupyter-widgets/base",
            "_view_module_version": "1.2.0",
            "_view_name": "LayoutView",
            "align_content": null,
            "align_items": null,
            "align_self": null,
            "border": null,
            "bottom": null,
            "display": null,
            "flex": null,
            "flex_flow": null,
            "grid_area": null,
            "grid_auto_columns": null,
            "grid_auto_flow": null,
            "grid_auto_rows": null,
            "grid_column": null,
            "grid_gap": null,
            "grid_row": null,
            "grid_template_areas": null,
            "grid_template_columns": null,
            "grid_template_rows": null,
            "height": null,
            "justify_content": null,
            "justify_items": null,
            "left": null,
            "margin": null,
            "max_height": null,
            "max_width": null,
            "min_height": null,
            "min_width": null,
            "object_fit": null,
            "object_position": null,
            "order": null,
            "overflow": null,
            "overflow_x": null,
            "overflow_y": null,
            "padding": null,
            "right": null,
            "top": null,
            "visibility": null,
            "width": null
          }
        },
        "a4588e263f5947998d8261ee00d2329d": {
          "model_module": "@jupyter-widgets/controls",
          "model_name": "IntProgressModel",
          "state": {
            "_dom_classes": [],
            "_model_module": "@jupyter-widgets/controls",
            "_model_module_version": "1.5.0",
            "_model_name": "IntProgressModel",
            "_view_count": null,
            "_view_module": "@jupyter-widgets/controls",
            "_view_module_version": "1.5.0",
            "_view_name": "ProgressView",
            "bar_style": "success",
            "description": "100%",
            "description_tooltip": null,
            "layout": "IPY_MODEL_b396dfe7854e4420a453006b2451a06c",
            "max": 2000,
            "min": 0,
            "orientation": "horizontal",
            "style": "IPY_MODEL_02bb2929b3b54217a517002b64898c6b",
            "value": 2000
          }
        },
        "ed6ce4b5e1be456f898797cab279f253": {
          "model_module": "@jupyter-widgets/controls",
          "model_name": "HTMLModel",
          "state": {
            "_dom_classes": [],
            "_model_module": "@jupyter-widgets/controls",
            "_model_module_version": "1.5.0",
            "_model_name": "HTMLModel",
            "_view_count": null,
            "_view_module": "@jupyter-widgets/controls",
            "_view_module_version": "1.5.0",
            "_view_name": "HTMLView",
            "description": "",
            "description_tooltip": null,
            "layout": "IPY_MODEL_adfa0a7db88c43a6b8ff458ea4d90cff",
            "placeholder": "​",
            "style": "IPY_MODEL_411a8514be70440b82adea77c47929a8",
            "value": " 2000/2000 [00:09&lt;00:00, 219.01epoch/s]"
          }
        },
        "02bb2929b3b54217a517002b64898c6b": {
          "model_module": "@jupyter-widgets/controls",
          "model_name": "ProgressStyleModel",
          "state": {
            "_model_module": "@jupyter-widgets/controls",
            "_model_module_version": "1.5.0",
            "_model_name": "ProgressStyleModel",
            "_view_count": null,
            "_view_module": "@jupyter-widgets/base",
            "_view_module_version": "1.2.0",
            "_view_name": "StyleView",
            "bar_color": null,
            "description_width": "initial"
          }
        },
        "b396dfe7854e4420a453006b2451a06c": {
          "model_module": "@jupyter-widgets/base",
          "model_name": "LayoutModel",
          "state": {
            "_model_module": "@jupyter-widgets/base",
            "_model_module_version": "1.2.0",
            "_model_name": "LayoutModel",
            "_view_count": null,
            "_view_module": "@jupyter-widgets/base",
            "_view_module_version": "1.2.0",
            "_view_name": "LayoutView",
            "align_content": null,
            "align_items": null,
            "align_self": null,
            "border": null,
            "bottom": null,
            "display": null,
            "flex": null,
            "flex_flow": null,
            "grid_area": null,
            "grid_auto_columns": null,
            "grid_auto_flow": null,
            "grid_auto_rows": null,
            "grid_column": null,
            "grid_gap": null,
            "grid_row": null,
            "grid_template_areas": null,
            "grid_template_columns": null,
            "grid_template_rows": null,
            "height": null,
            "justify_content": null,
            "justify_items": null,
            "left": null,
            "margin": null,
            "max_height": null,
            "max_width": null,
            "min_height": null,
            "min_width": null,
            "object_fit": null,
            "object_position": null,
            "order": null,
            "overflow": null,
            "overflow_x": null,
            "overflow_y": null,
            "padding": null,
            "right": null,
            "top": null,
            "visibility": null,
            "width": null
          }
        },
        "411a8514be70440b82adea77c47929a8": {
          "model_module": "@jupyter-widgets/controls",
          "model_name": "DescriptionStyleModel",
          "state": {
            "_model_module": "@jupyter-widgets/controls",
            "_model_module_version": "1.5.0",
            "_model_name": "DescriptionStyleModel",
            "_view_count": null,
            "_view_module": "@jupyter-widgets/base",
            "_view_module_version": "1.2.0",
            "_view_name": "StyleView",
            "description_width": ""
          }
        },
        "adfa0a7db88c43a6b8ff458ea4d90cff": {
          "model_module": "@jupyter-widgets/base",
          "model_name": "LayoutModel",
          "state": {
            "_model_module": "@jupyter-widgets/base",
            "_model_module_version": "1.2.0",
            "_model_name": "LayoutModel",
            "_view_count": null,
            "_view_module": "@jupyter-widgets/base",
            "_view_module_version": "1.2.0",
            "_view_name": "LayoutView",
            "align_content": null,
            "align_items": null,
            "align_self": null,
            "border": null,
            "bottom": null,
            "display": null,
            "flex": null,
            "flex_flow": null,
            "grid_area": null,
            "grid_auto_columns": null,
            "grid_auto_flow": null,
            "grid_auto_rows": null,
            "grid_column": null,
            "grid_gap": null,
            "grid_row": null,
            "grid_template_areas": null,
            "grid_template_columns": null,
            "grid_template_rows": null,
            "height": null,
            "justify_content": null,
            "justify_items": null,
            "left": null,
            "margin": null,
            "max_height": null,
            "max_width": null,
            "min_height": null,
            "min_width": null,
            "object_fit": null,
            "object_position": null,
            "order": null,
            "overflow": null,
            "overflow_x": null,
            "overflow_y": null,
            "padding": null,
            "right": null,
            "top": null,
            "visibility": null,
            "width": null
          }
        },
        "048e6579e5344775a548b2efcdf5459c": {
          "model_module": "@jupyter-widgets/controls",
          "model_name": "HBoxModel",
          "state": {
            "_dom_classes": [],
            "_model_module": "@jupyter-widgets/controls",
            "_model_module_version": "1.5.0",
            "_model_name": "HBoxModel",
            "_view_count": null,
            "_view_module": "@jupyter-widgets/controls",
            "_view_module_version": "1.5.0",
            "_view_name": "HBoxView",
            "box_style": "",
            "children": [
              "IPY_MODEL_1f96804f06d74ec5b4d3e50edf2f64c6",
              "IPY_MODEL_0976bb5b012145d0a7aa1bb9ef547576"
            ],
            "layout": "IPY_MODEL_638a04fae7b9443fb7bab64666031a4c"
          }
        },
        "638a04fae7b9443fb7bab64666031a4c": {
          "model_module": "@jupyter-widgets/base",
          "model_name": "LayoutModel",
          "state": {
            "_model_module": "@jupyter-widgets/base",
            "_model_module_version": "1.2.0",
            "_model_name": "LayoutModel",
            "_view_count": null,
            "_view_module": "@jupyter-widgets/base",
            "_view_module_version": "1.2.0",
            "_view_name": "LayoutView",
            "align_content": null,
            "align_items": null,
            "align_self": null,
            "border": null,
            "bottom": null,
            "display": null,
            "flex": null,
            "flex_flow": null,
            "grid_area": null,
            "grid_auto_columns": null,
            "grid_auto_flow": null,
            "grid_auto_rows": null,
            "grid_column": null,
            "grid_gap": null,
            "grid_row": null,
            "grid_template_areas": null,
            "grid_template_columns": null,
            "grid_template_rows": null,
            "height": null,
            "justify_content": null,
            "justify_items": null,
            "left": null,
            "margin": null,
            "max_height": null,
            "max_width": null,
            "min_height": null,
            "min_width": null,
            "object_fit": null,
            "object_position": null,
            "order": null,
            "overflow": null,
            "overflow_x": null,
            "overflow_y": null,
            "padding": null,
            "right": null,
            "top": null,
            "visibility": null,
            "width": null
          }
        },
        "1f96804f06d74ec5b4d3e50edf2f64c6": {
          "model_module": "@jupyter-widgets/controls",
          "model_name": "IntProgressModel",
          "state": {
            "_dom_classes": [],
            "_model_module": "@jupyter-widgets/controls",
            "_model_module_version": "1.5.0",
            "_model_name": "IntProgressModel",
            "_view_count": null,
            "_view_module": "@jupyter-widgets/controls",
            "_view_module_version": "1.5.0",
            "_view_name": "ProgressView",
            "bar_style": "success",
            "description": "100%",
            "description_tooltip": null,
            "layout": "IPY_MODEL_158c709f192a4b269fc6049cdb4fb970",
            "max": 2000,
            "min": 0,
            "orientation": "horizontal",
            "style": "IPY_MODEL_b2da81ca1d7f4fa28addcf421142718c",
            "value": 2000
          }
        },
        "0976bb5b012145d0a7aa1bb9ef547576": {
          "model_module": "@jupyter-widgets/controls",
          "model_name": "HTMLModel",
          "state": {
            "_dom_classes": [],
            "_model_module": "@jupyter-widgets/controls",
            "_model_module_version": "1.5.0",
            "_model_name": "HTMLModel",
            "_view_count": null,
            "_view_module": "@jupyter-widgets/controls",
            "_view_module_version": "1.5.0",
            "_view_name": "HTMLView",
            "description": "",
            "description_tooltip": null,
            "layout": "IPY_MODEL_91eeaae0bde7485cab93bba51797fd50",
            "placeholder": "​",
            "style": "IPY_MODEL_0dedc4637b79448b9a18a7e7142ee7ee",
            "value": " 2000/2000 [00:06&lt;00:00, 301.29epoch/s]"
          }
        },
        "b2da81ca1d7f4fa28addcf421142718c": {
          "model_module": "@jupyter-widgets/controls",
          "model_name": "ProgressStyleModel",
          "state": {
            "_model_module": "@jupyter-widgets/controls",
            "_model_module_version": "1.5.0",
            "_model_name": "ProgressStyleModel",
            "_view_count": null,
            "_view_module": "@jupyter-widgets/base",
            "_view_module_version": "1.2.0",
            "_view_name": "StyleView",
            "bar_color": null,
            "description_width": "initial"
          }
        },
        "158c709f192a4b269fc6049cdb4fb970": {
          "model_module": "@jupyter-widgets/base",
          "model_name": "LayoutModel",
          "state": {
            "_model_module": "@jupyter-widgets/base",
            "_model_module_version": "1.2.0",
            "_model_name": "LayoutModel",
            "_view_count": null,
            "_view_module": "@jupyter-widgets/base",
            "_view_module_version": "1.2.0",
            "_view_name": "LayoutView",
            "align_content": null,
            "align_items": null,
            "align_self": null,
            "border": null,
            "bottom": null,
            "display": null,
            "flex": null,
            "flex_flow": null,
            "grid_area": null,
            "grid_auto_columns": null,
            "grid_auto_flow": null,
            "grid_auto_rows": null,
            "grid_column": null,
            "grid_gap": null,
            "grid_row": null,
            "grid_template_areas": null,
            "grid_template_columns": null,
            "grid_template_rows": null,
            "height": null,
            "justify_content": null,
            "justify_items": null,
            "left": null,
            "margin": null,
            "max_height": null,
            "max_width": null,
            "min_height": null,
            "min_width": null,
            "object_fit": null,
            "object_position": null,
            "order": null,
            "overflow": null,
            "overflow_x": null,
            "overflow_y": null,
            "padding": null,
            "right": null,
            "top": null,
            "visibility": null,
            "width": null
          }
        },
        "0dedc4637b79448b9a18a7e7142ee7ee": {
          "model_module": "@jupyter-widgets/controls",
          "model_name": "DescriptionStyleModel",
          "state": {
            "_model_module": "@jupyter-widgets/controls",
            "_model_module_version": "1.5.0",
            "_model_name": "DescriptionStyleModel",
            "_view_count": null,
            "_view_module": "@jupyter-widgets/base",
            "_view_module_version": "1.2.0",
            "_view_name": "StyleView",
            "description_width": ""
          }
        },
        "91eeaae0bde7485cab93bba51797fd50": {
          "model_module": "@jupyter-widgets/base",
          "model_name": "LayoutModel",
          "state": {
            "_model_module": "@jupyter-widgets/base",
            "_model_module_version": "1.2.0",
            "_model_name": "LayoutModel",
            "_view_count": null,
            "_view_module": "@jupyter-widgets/base",
            "_view_module_version": "1.2.0",
            "_view_name": "LayoutView",
            "align_content": null,
            "align_items": null,
            "align_self": null,
            "border": null,
            "bottom": null,
            "display": null,
            "flex": null,
            "flex_flow": null,
            "grid_area": null,
            "grid_auto_columns": null,
            "grid_auto_flow": null,
            "grid_auto_rows": null,
            "grid_column": null,
            "grid_gap": null,
            "grid_row": null,
            "grid_template_areas": null,
            "grid_template_columns": null,
            "grid_template_rows": null,
            "height": null,
            "justify_content": null,
            "justify_items": null,
            "left": null,
            "margin": null,
            "max_height": null,
            "max_width": null,
            "min_height": null,
            "min_width": null,
            "object_fit": null,
            "object_position": null,
            "order": null,
            "overflow": null,
            "overflow_x": null,
            "overflow_y": null,
            "padding": null,
            "right": null,
            "top": null,
            "visibility": null,
            "width": null
          }
        },
        "8f9bfa8e71314b00aca4d902e9f710ad": {
          "model_module": "@jupyter-widgets/controls",
          "model_name": "HBoxModel",
          "state": {
            "_dom_classes": [],
            "_model_module": "@jupyter-widgets/controls",
            "_model_module_version": "1.5.0",
            "_model_name": "HBoxModel",
            "_view_count": null,
            "_view_module": "@jupyter-widgets/controls",
            "_view_module_version": "1.5.0",
            "_view_name": "HBoxView",
            "box_style": "",
            "children": [
              "IPY_MODEL_b5586ca160ec42cd86434dd1fea7cd31",
              "IPY_MODEL_0705a97d0b3f491e9c35cf83e2816160"
            ],
            "layout": "IPY_MODEL_ea1e54f284d84490bf4c99c303bf9540"
          }
        },
        "ea1e54f284d84490bf4c99c303bf9540": {
          "model_module": "@jupyter-widgets/base",
          "model_name": "LayoutModel",
          "state": {
            "_model_module": "@jupyter-widgets/base",
            "_model_module_version": "1.2.0",
            "_model_name": "LayoutModel",
            "_view_count": null,
            "_view_module": "@jupyter-widgets/base",
            "_view_module_version": "1.2.0",
            "_view_name": "LayoutView",
            "align_content": null,
            "align_items": null,
            "align_self": null,
            "border": null,
            "bottom": null,
            "display": null,
            "flex": null,
            "flex_flow": null,
            "grid_area": null,
            "grid_auto_columns": null,
            "grid_auto_flow": null,
            "grid_auto_rows": null,
            "grid_column": null,
            "grid_gap": null,
            "grid_row": null,
            "grid_template_areas": null,
            "grid_template_columns": null,
            "grid_template_rows": null,
            "height": null,
            "justify_content": null,
            "justify_items": null,
            "left": null,
            "margin": null,
            "max_height": null,
            "max_width": null,
            "min_height": null,
            "min_width": null,
            "object_fit": null,
            "object_position": null,
            "order": null,
            "overflow": null,
            "overflow_x": null,
            "overflow_y": null,
            "padding": null,
            "right": null,
            "top": null,
            "visibility": null,
            "width": null
          }
        },
        "b5586ca160ec42cd86434dd1fea7cd31": {
          "model_module": "@jupyter-widgets/controls",
          "model_name": "IntProgressModel",
          "state": {
            "_dom_classes": [],
            "_model_module": "@jupyter-widgets/controls",
            "_model_module_version": "1.5.0",
            "_model_name": "IntProgressModel",
            "_view_count": null,
            "_view_module": "@jupyter-widgets/controls",
            "_view_module_version": "1.5.0",
            "_view_name": "ProgressView",
            "bar_style": "success",
            "description": "100%",
            "description_tooltip": null,
            "layout": "IPY_MODEL_6c90836ae9e04fc6aaff3b9c14e5182c",
            "max": 2000,
            "min": 0,
            "orientation": "horizontal",
            "style": "IPY_MODEL_6ed007a58f804f6e995ca040521686e1",
            "value": 2000
          }
        },
        "0705a97d0b3f491e9c35cf83e2816160": {
          "model_module": "@jupyter-widgets/controls",
          "model_name": "HTMLModel",
          "state": {
            "_dom_classes": [],
            "_model_module": "@jupyter-widgets/controls",
            "_model_module_version": "1.5.0",
            "_model_name": "HTMLModel",
            "_view_count": null,
            "_view_module": "@jupyter-widgets/controls",
            "_view_module_version": "1.5.0",
            "_view_name": "HTMLView",
            "description": "",
            "description_tooltip": null,
            "layout": "IPY_MODEL_c8501ff265da48ccadac1bdd6442c5e4",
            "placeholder": "​",
            "style": "IPY_MODEL_172211ed9527409ab50ad91c86e3ae10",
            "value": " 2000/2000 [00:07&lt;00:00, 260.63epoch/s]"
          }
        },
        "6ed007a58f804f6e995ca040521686e1": {
          "model_module": "@jupyter-widgets/controls",
          "model_name": "ProgressStyleModel",
          "state": {
            "_model_module": "@jupyter-widgets/controls",
            "_model_module_version": "1.5.0",
            "_model_name": "ProgressStyleModel",
            "_view_count": null,
            "_view_module": "@jupyter-widgets/base",
            "_view_module_version": "1.2.0",
            "_view_name": "StyleView",
            "bar_color": null,
            "description_width": "initial"
          }
        },
        "6c90836ae9e04fc6aaff3b9c14e5182c": {
          "model_module": "@jupyter-widgets/base",
          "model_name": "LayoutModel",
          "state": {
            "_model_module": "@jupyter-widgets/base",
            "_model_module_version": "1.2.0",
            "_model_name": "LayoutModel",
            "_view_count": null,
            "_view_module": "@jupyter-widgets/base",
            "_view_module_version": "1.2.0",
            "_view_name": "LayoutView",
            "align_content": null,
            "align_items": null,
            "align_self": null,
            "border": null,
            "bottom": null,
            "display": null,
            "flex": null,
            "flex_flow": null,
            "grid_area": null,
            "grid_auto_columns": null,
            "grid_auto_flow": null,
            "grid_auto_rows": null,
            "grid_column": null,
            "grid_gap": null,
            "grid_row": null,
            "grid_template_areas": null,
            "grid_template_columns": null,
            "grid_template_rows": null,
            "height": null,
            "justify_content": null,
            "justify_items": null,
            "left": null,
            "margin": null,
            "max_height": null,
            "max_width": null,
            "min_height": null,
            "min_width": null,
            "object_fit": null,
            "object_position": null,
            "order": null,
            "overflow": null,
            "overflow_x": null,
            "overflow_y": null,
            "padding": null,
            "right": null,
            "top": null,
            "visibility": null,
            "width": null
          }
        },
        "172211ed9527409ab50ad91c86e3ae10": {
          "model_module": "@jupyter-widgets/controls",
          "model_name": "DescriptionStyleModel",
          "state": {
            "_model_module": "@jupyter-widgets/controls",
            "_model_module_version": "1.5.0",
            "_model_name": "DescriptionStyleModel",
            "_view_count": null,
            "_view_module": "@jupyter-widgets/base",
            "_view_module_version": "1.2.0",
            "_view_name": "StyleView",
            "description_width": ""
          }
        },
        "c8501ff265da48ccadac1bdd6442c5e4": {
          "model_module": "@jupyter-widgets/base",
          "model_name": "LayoutModel",
          "state": {
            "_model_module": "@jupyter-widgets/base",
            "_model_module_version": "1.2.0",
            "_model_name": "LayoutModel",
            "_view_count": null,
            "_view_module": "@jupyter-widgets/base",
            "_view_module_version": "1.2.0",
            "_view_name": "LayoutView",
            "align_content": null,
            "align_items": null,
            "align_self": null,
            "border": null,
            "bottom": null,
            "display": null,
            "flex": null,
            "flex_flow": null,
            "grid_area": null,
            "grid_auto_columns": null,
            "grid_auto_flow": null,
            "grid_auto_rows": null,
            "grid_column": null,
            "grid_gap": null,
            "grid_row": null,
            "grid_template_areas": null,
            "grid_template_columns": null,
            "grid_template_rows": null,
            "height": null,
            "justify_content": null,
            "justify_items": null,
            "left": null,
            "margin": null,
            "max_height": null,
            "max_width": null,
            "min_height": null,
            "min_width": null,
            "object_fit": null,
            "object_position": null,
            "order": null,
            "overflow": null,
            "overflow_x": null,
            "overflow_y": null,
            "padding": null,
            "right": null,
            "top": null,
            "visibility": null,
            "width": null
          }
        },
        "33f052931cd14bb78d493c9e2b3538f4": {
          "model_module": "@jupyter-widgets/controls",
          "model_name": "HBoxModel",
          "state": {
            "_dom_classes": [],
            "_model_module": "@jupyter-widgets/controls",
            "_model_module_version": "1.5.0",
            "_model_name": "HBoxModel",
            "_view_count": null,
            "_view_module": "@jupyter-widgets/controls",
            "_view_module_version": "1.5.0",
            "_view_name": "HBoxView",
            "box_style": "",
            "children": [
              "IPY_MODEL_c0ea39eb4aef4212ad9f8fcbed59a460",
              "IPY_MODEL_bf0f6d7a71804402aff7734ebf086b77"
            ],
            "layout": "IPY_MODEL_66151fc7657643558741222d7721b52e"
          }
        },
        "66151fc7657643558741222d7721b52e": {
          "model_module": "@jupyter-widgets/base",
          "model_name": "LayoutModel",
          "state": {
            "_model_module": "@jupyter-widgets/base",
            "_model_module_version": "1.2.0",
            "_model_name": "LayoutModel",
            "_view_count": null,
            "_view_module": "@jupyter-widgets/base",
            "_view_module_version": "1.2.0",
            "_view_name": "LayoutView",
            "align_content": null,
            "align_items": null,
            "align_self": null,
            "border": null,
            "bottom": null,
            "display": null,
            "flex": null,
            "flex_flow": null,
            "grid_area": null,
            "grid_auto_columns": null,
            "grid_auto_flow": null,
            "grid_auto_rows": null,
            "grid_column": null,
            "grid_gap": null,
            "grid_row": null,
            "grid_template_areas": null,
            "grid_template_columns": null,
            "grid_template_rows": null,
            "height": null,
            "justify_content": null,
            "justify_items": null,
            "left": null,
            "margin": null,
            "max_height": null,
            "max_width": null,
            "min_height": null,
            "min_width": null,
            "object_fit": null,
            "object_position": null,
            "order": null,
            "overflow": null,
            "overflow_x": null,
            "overflow_y": null,
            "padding": null,
            "right": null,
            "top": null,
            "visibility": null,
            "width": null
          }
        },
        "c0ea39eb4aef4212ad9f8fcbed59a460": {
          "model_module": "@jupyter-widgets/controls",
          "model_name": "IntProgressModel",
          "state": {
            "_dom_classes": [],
            "_model_module": "@jupyter-widgets/controls",
            "_model_module_version": "1.5.0",
            "_model_name": "IntProgressModel",
            "_view_count": null,
            "_view_module": "@jupyter-widgets/controls",
            "_view_module_version": "1.5.0",
            "_view_name": "ProgressView",
            "bar_style": "success",
            "description": "100%",
            "description_tooltip": null,
            "layout": "IPY_MODEL_75669f7726b649efbb9c861eb487eeae",
            "max": 2000,
            "min": 0,
            "orientation": "horizontal",
            "style": "IPY_MODEL_83a00a706e8b48b1b8036e9949f407bf",
            "value": 2000
          }
        },
        "bf0f6d7a71804402aff7734ebf086b77": {
          "model_module": "@jupyter-widgets/controls",
          "model_name": "HTMLModel",
          "state": {
            "_dom_classes": [],
            "_model_module": "@jupyter-widgets/controls",
            "_model_module_version": "1.5.0",
            "_model_name": "HTMLModel",
            "_view_count": null,
            "_view_module": "@jupyter-widgets/controls",
            "_view_module_version": "1.5.0",
            "_view_name": "HTMLView",
            "description": "",
            "description_tooltip": null,
            "layout": "IPY_MODEL_ba278024f34f4e13a4ff0cd0d863cde3",
            "placeholder": "​",
            "style": "IPY_MODEL_b64194c79be94d66a42741ccedc8d1b9",
            "value": " 2000/2000 [00:05&lt;00:00, 347.90epoch/s]"
          }
        },
        "83a00a706e8b48b1b8036e9949f407bf": {
          "model_module": "@jupyter-widgets/controls",
          "model_name": "ProgressStyleModel",
          "state": {
            "_model_module": "@jupyter-widgets/controls",
            "_model_module_version": "1.5.0",
            "_model_name": "ProgressStyleModel",
            "_view_count": null,
            "_view_module": "@jupyter-widgets/base",
            "_view_module_version": "1.2.0",
            "_view_name": "StyleView",
            "bar_color": null,
            "description_width": "initial"
          }
        },
        "75669f7726b649efbb9c861eb487eeae": {
          "model_module": "@jupyter-widgets/base",
          "model_name": "LayoutModel",
          "state": {
            "_model_module": "@jupyter-widgets/base",
            "_model_module_version": "1.2.0",
            "_model_name": "LayoutModel",
            "_view_count": null,
            "_view_module": "@jupyter-widgets/base",
            "_view_module_version": "1.2.0",
            "_view_name": "LayoutView",
            "align_content": null,
            "align_items": null,
            "align_self": null,
            "border": null,
            "bottom": null,
            "display": null,
            "flex": null,
            "flex_flow": null,
            "grid_area": null,
            "grid_auto_columns": null,
            "grid_auto_flow": null,
            "grid_auto_rows": null,
            "grid_column": null,
            "grid_gap": null,
            "grid_row": null,
            "grid_template_areas": null,
            "grid_template_columns": null,
            "grid_template_rows": null,
            "height": null,
            "justify_content": null,
            "justify_items": null,
            "left": null,
            "margin": null,
            "max_height": null,
            "max_width": null,
            "min_height": null,
            "min_width": null,
            "object_fit": null,
            "object_position": null,
            "order": null,
            "overflow": null,
            "overflow_x": null,
            "overflow_y": null,
            "padding": null,
            "right": null,
            "top": null,
            "visibility": null,
            "width": null
          }
        },
        "b64194c79be94d66a42741ccedc8d1b9": {
          "model_module": "@jupyter-widgets/controls",
          "model_name": "DescriptionStyleModel",
          "state": {
            "_model_module": "@jupyter-widgets/controls",
            "_model_module_version": "1.5.0",
            "_model_name": "DescriptionStyleModel",
            "_view_count": null,
            "_view_module": "@jupyter-widgets/base",
            "_view_module_version": "1.2.0",
            "_view_name": "StyleView",
            "description_width": ""
          }
        },
        "ba278024f34f4e13a4ff0cd0d863cde3": {
          "model_module": "@jupyter-widgets/base",
          "model_name": "LayoutModel",
          "state": {
            "_model_module": "@jupyter-widgets/base",
            "_model_module_version": "1.2.0",
            "_model_name": "LayoutModel",
            "_view_count": null,
            "_view_module": "@jupyter-widgets/base",
            "_view_module_version": "1.2.0",
            "_view_name": "LayoutView",
            "align_content": null,
            "align_items": null,
            "align_self": null,
            "border": null,
            "bottom": null,
            "display": null,
            "flex": null,
            "flex_flow": null,
            "grid_area": null,
            "grid_auto_columns": null,
            "grid_auto_flow": null,
            "grid_auto_rows": null,
            "grid_column": null,
            "grid_gap": null,
            "grid_row": null,
            "grid_template_areas": null,
            "grid_template_columns": null,
            "grid_template_rows": null,
            "height": null,
            "justify_content": null,
            "justify_items": null,
            "left": null,
            "margin": null,
            "max_height": null,
            "max_width": null,
            "min_height": null,
            "min_width": null,
            "object_fit": null,
            "object_position": null,
            "order": null,
            "overflow": null,
            "overflow_x": null,
            "overflow_y": null,
            "padding": null,
            "right": null,
            "top": null,
            "visibility": null,
            "width": null
          }
        },
        "b87479367e3045eba0b53de3add686e9": {
          "model_module": "@jupyter-widgets/controls",
          "model_name": "HBoxModel",
          "state": {
            "_dom_classes": [],
            "_model_module": "@jupyter-widgets/controls",
            "_model_module_version": "1.5.0",
            "_model_name": "HBoxModel",
            "_view_count": null,
            "_view_module": "@jupyter-widgets/controls",
            "_view_module_version": "1.5.0",
            "_view_name": "HBoxView",
            "box_style": "",
            "children": [
              "IPY_MODEL_db20900b45db48f4a3313da75049f807",
              "IPY_MODEL_4a4396f1fb334205a1d0ad926b13d2fd"
            ],
            "layout": "IPY_MODEL_b6621ad77382439a8bf21aad59abd44c"
          }
        },
        "b6621ad77382439a8bf21aad59abd44c": {
          "model_module": "@jupyter-widgets/base",
          "model_name": "LayoutModel",
          "state": {
            "_model_module": "@jupyter-widgets/base",
            "_model_module_version": "1.2.0",
            "_model_name": "LayoutModel",
            "_view_count": null,
            "_view_module": "@jupyter-widgets/base",
            "_view_module_version": "1.2.0",
            "_view_name": "LayoutView",
            "align_content": null,
            "align_items": null,
            "align_self": null,
            "border": null,
            "bottom": null,
            "display": null,
            "flex": null,
            "flex_flow": null,
            "grid_area": null,
            "grid_auto_columns": null,
            "grid_auto_flow": null,
            "grid_auto_rows": null,
            "grid_column": null,
            "grid_gap": null,
            "grid_row": null,
            "grid_template_areas": null,
            "grid_template_columns": null,
            "grid_template_rows": null,
            "height": null,
            "justify_content": null,
            "justify_items": null,
            "left": null,
            "margin": null,
            "max_height": null,
            "max_width": null,
            "min_height": null,
            "min_width": null,
            "object_fit": null,
            "object_position": null,
            "order": null,
            "overflow": null,
            "overflow_x": null,
            "overflow_y": null,
            "padding": null,
            "right": null,
            "top": null,
            "visibility": null,
            "width": null
          }
        },
        "db20900b45db48f4a3313da75049f807": {
          "model_module": "@jupyter-widgets/controls",
          "model_name": "IntProgressModel",
          "state": {
            "_dom_classes": [],
            "_model_module": "@jupyter-widgets/controls",
            "_model_module_version": "1.5.0",
            "_model_name": "IntProgressModel",
            "_view_count": null,
            "_view_module": "@jupyter-widgets/controls",
            "_view_module_version": "1.5.0",
            "_view_name": "ProgressView",
            "bar_style": "success",
            "description": "100%",
            "description_tooltip": null,
            "layout": "IPY_MODEL_2297ad481ba14dbcb3812f68b761f77b",
            "max": 2000,
            "min": 0,
            "orientation": "horizontal",
            "style": "IPY_MODEL_487f329197a347278865b3d1bd90aacf",
            "value": 2000
          }
        },
        "4a4396f1fb334205a1d0ad926b13d2fd": {
          "model_module": "@jupyter-widgets/controls",
          "model_name": "HTMLModel",
          "state": {
            "_dom_classes": [],
            "_model_module": "@jupyter-widgets/controls",
            "_model_module_version": "1.5.0",
            "_model_name": "HTMLModel",
            "_view_count": null,
            "_view_module": "@jupyter-widgets/controls",
            "_view_module_version": "1.5.0",
            "_view_name": "HTMLView",
            "description": "",
            "description_tooltip": null,
            "layout": "IPY_MODEL_1ec674a5024f4cd8ac85fd519e92daa2",
            "placeholder": "​",
            "style": "IPY_MODEL_6f74a609471748f49daa0792b67be2ad",
            "value": " 2000/2000 [00:07&lt;00:00, 253.46epoch/s]"
          }
        },
        "487f329197a347278865b3d1bd90aacf": {
          "model_module": "@jupyter-widgets/controls",
          "model_name": "ProgressStyleModel",
          "state": {
            "_model_module": "@jupyter-widgets/controls",
            "_model_module_version": "1.5.0",
            "_model_name": "ProgressStyleModel",
            "_view_count": null,
            "_view_module": "@jupyter-widgets/base",
            "_view_module_version": "1.2.0",
            "_view_name": "StyleView",
            "bar_color": null,
            "description_width": "initial"
          }
        },
        "2297ad481ba14dbcb3812f68b761f77b": {
          "model_module": "@jupyter-widgets/base",
          "model_name": "LayoutModel",
          "state": {
            "_model_module": "@jupyter-widgets/base",
            "_model_module_version": "1.2.0",
            "_model_name": "LayoutModel",
            "_view_count": null,
            "_view_module": "@jupyter-widgets/base",
            "_view_module_version": "1.2.0",
            "_view_name": "LayoutView",
            "align_content": null,
            "align_items": null,
            "align_self": null,
            "border": null,
            "bottom": null,
            "display": null,
            "flex": null,
            "flex_flow": null,
            "grid_area": null,
            "grid_auto_columns": null,
            "grid_auto_flow": null,
            "grid_auto_rows": null,
            "grid_column": null,
            "grid_gap": null,
            "grid_row": null,
            "grid_template_areas": null,
            "grid_template_columns": null,
            "grid_template_rows": null,
            "height": null,
            "justify_content": null,
            "justify_items": null,
            "left": null,
            "margin": null,
            "max_height": null,
            "max_width": null,
            "min_height": null,
            "min_width": null,
            "object_fit": null,
            "object_position": null,
            "order": null,
            "overflow": null,
            "overflow_x": null,
            "overflow_y": null,
            "padding": null,
            "right": null,
            "top": null,
            "visibility": null,
            "width": null
          }
        },
        "6f74a609471748f49daa0792b67be2ad": {
          "model_module": "@jupyter-widgets/controls",
          "model_name": "DescriptionStyleModel",
          "state": {
            "_model_module": "@jupyter-widgets/controls",
            "_model_module_version": "1.5.0",
            "_model_name": "DescriptionStyleModel",
            "_view_count": null,
            "_view_module": "@jupyter-widgets/base",
            "_view_module_version": "1.2.0",
            "_view_name": "StyleView",
            "description_width": ""
          }
        },
        "1ec674a5024f4cd8ac85fd519e92daa2": {
          "model_module": "@jupyter-widgets/base",
          "model_name": "LayoutModel",
          "state": {
            "_model_module": "@jupyter-widgets/base",
            "_model_module_version": "1.2.0",
            "_model_name": "LayoutModel",
            "_view_count": null,
            "_view_module": "@jupyter-widgets/base",
            "_view_module_version": "1.2.0",
            "_view_name": "LayoutView",
            "align_content": null,
            "align_items": null,
            "align_self": null,
            "border": null,
            "bottom": null,
            "display": null,
            "flex": null,
            "flex_flow": null,
            "grid_area": null,
            "grid_auto_columns": null,
            "grid_auto_flow": null,
            "grid_auto_rows": null,
            "grid_column": null,
            "grid_gap": null,
            "grid_row": null,
            "grid_template_areas": null,
            "grid_template_columns": null,
            "grid_template_rows": null,
            "height": null,
            "justify_content": null,
            "justify_items": null,
            "left": null,
            "margin": null,
            "max_height": null,
            "max_width": null,
            "min_height": null,
            "min_width": null,
            "object_fit": null,
            "object_position": null,
            "order": null,
            "overflow": null,
            "overflow_x": null,
            "overflow_y": null,
            "padding": null,
            "right": null,
            "top": null,
            "visibility": null,
            "width": null
          }
        },
        "689020dd97ac41b08f9dc5379f232662": {
          "model_module": "@jupyter-widgets/controls",
          "model_name": "HBoxModel",
          "state": {
            "_dom_classes": [],
            "_model_module": "@jupyter-widgets/controls",
            "_model_module_version": "1.5.0",
            "_model_name": "HBoxModel",
            "_view_count": null,
            "_view_module": "@jupyter-widgets/controls",
            "_view_module_version": "1.5.0",
            "_view_name": "HBoxView",
            "box_style": "",
            "children": [
              "IPY_MODEL_c77bf455b38c415fae487092fb3e92f3",
              "IPY_MODEL_264bea6514ee4017b2dd3e3685958185"
            ],
            "layout": "IPY_MODEL_2a5f32bcfffb4a9eb2988c7b0bae41a6"
          }
        },
        "2a5f32bcfffb4a9eb2988c7b0bae41a6": {
          "model_module": "@jupyter-widgets/base",
          "model_name": "LayoutModel",
          "state": {
            "_model_module": "@jupyter-widgets/base",
            "_model_module_version": "1.2.0",
            "_model_name": "LayoutModel",
            "_view_count": null,
            "_view_module": "@jupyter-widgets/base",
            "_view_module_version": "1.2.0",
            "_view_name": "LayoutView",
            "align_content": null,
            "align_items": null,
            "align_self": null,
            "border": null,
            "bottom": null,
            "display": null,
            "flex": null,
            "flex_flow": null,
            "grid_area": null,
            "grid_auto_columns": null,
            "grid_auto_flow": null,
            "grid_auto_rows": null,
            "grid_column": null,
            "grid_gap": null,
            "grid_row": null,
            "grid_template_areas": null,
            "grid_template_columns": null,
            "grid_template_rows": null,
            "height": null,
            "justify_content": null,
            "justify_items": null,
            "left": null,
            "margin": null,
            "max_height": null,
            "max_width": null,
            "min_height": null,
            "min_width": null,
            "object_fit": null,
            "object_position": null,
            "order": null,
            "overflow": null,
            "overflow_x": null,
            "overflow_y": null,
            "padding": null,
            "right": null,
            "top": null,
            "visibility": null,
            "width": null
          }
        },
        "c77bf455b38c415fae487092fb3e92f3": {
          "model_module": "@jupyter-widgets/controls",
          "model_name": "IntProgressModel",
          "state": {
            "_dom_classes": [],
            "_model_module": "@jupyter-widgets/controls",
            "_model_module_version": "1.5.0",
            "_model_name": "IntProgressModel",
            "_view_count": null,
            "_view_module": "@jupyter-widgets/controls",
            "_view_module_version": "1.5.0",
            "_view_name": "ProgressView",
            "bar_style": "success",
            "description": "100%",
            "description_tooltip": null,
            "layout": "IPY_MODEL_6dc9ee1560ba4f40803800b1b35e5952",
            "max": 2000,
            "min": 0,
            "orientation": "horizontal",
            "style": "IPY_MODEL_21aa99057b2146feb6dea09130ee5ece",
            "value": 2000
          }
        },
        "264bea6514ee4017b2dd3e3685958185": {
          "model_module": "@jupyter-widgets/controls",
          "model_name": "HTMLModel",
          "state": {
            "_dom_classes": [],
            "_model_module": "@jupyter-widgets/controls",
            "_model_module_version": "1.5.0",
            "_model_name": "HTMLModel",
            "_view_count": null,
            "_view_module": "@jupyter-widgets/controls",
            "_view_module_version": "1.5.0",
            "_view_name": "HTMLView",
            "description": "",
            "description_tooltip": null,
            "layout": "IPY_MODEL_ec65fbdb96d346bc9065e80d28497165",
            "placeholder": "​",
            "style": "IPY_MODEL_73ff2df3630642b78a65562f4dba37da",
            "value": " 2000/2000 [00:05&lt;00:00, 349.76epoch/s]"
          }
        },
        "21aa99057b2146feb6dea09130ee5ece": {
          "model_module": "@jupyter-widgets/controls",
          "model_name": "ProgressStyleModel",
          "state": {
            "_model_module": "@jupyter-widgets/controls",
            "_model_module_version": "1.5.0",
            "_model_name": "ProgressStyleModel",
            "_view_count": null,
            "_view_module": "@jupyter-widgets/base",
            "_view_module_version": "1.2.0",
            "_view_name": "StyleView",
            "bar_color": null,
            "description_width": "initial"
          }
        },
        "6dc9ee1560ba4f40803800b1b35e5952": {
          "model_module": "@jupyter-widgets/base",
          "model_name": "LayoutModel",
          "state": {
            "_model_module": "@jupyter-widgets/base",
            "_model_module_version": "1.2.0",
            "_model_name": "LayoutModel",
            "_view_count": null,
            "_view_module": "@jupyter-widgets/base",
            "_view_module_version": "1.2.0",
            "_view_name": "LayoutView",
            "align_content": null,
            "align_items": null,
            "align_self": null,
            "border": null,
            "bottom": null,
            "display": null,
            "flex": null,
            "flex_flow": null,
            "grid_area": null,
            "grid_auto_columns": null,
            "grid_auto_flow": null,
            "grid_auto_rows": null,
            "grid_column": null,
            "grid_gap": null,
            "grid_row": null,
            "grid_template_areas": null,
            "grid_template_columns": null,
            "grid_template_rows": null,
            "height": null,
            "justify_content": null,
            "justify_items": null,
            "left": null,
            "margin": null,
            "max_height": null,
            "max_width": null,
            "min_height": null,
            "min_width": null,
            "object_fit": null,
            "object_position": null,
            "order": null,
            "overflow": null,
            "overflow_x": null,
            "overflow_y": null,
            "padding": null,
            "right": null,
            "top": null,
            "visibility": null,
            "width": null
          }
        },
        "73ff2df3630642b78a65562f4dba37da": {
          "model_module": "@jupyter-widgets/controls",
          "model_name": "DescriptionStyleModel",
          "state": {
            "_model_module": "@jupyter-widgets/controls",
            "_model_module_version": "1.5.0",
            "_model_name": "DescriptionStyleModel",
            "_view_count": null,
            "_view_module": "@jupyter-widgets/base",
            "_view_module_version": "1.2.0",
            "_view_name": "StyleView",
            "description_width": ""
          }
        },
        "ec65fbdb96d346bc9065e80d28497165": {
          "model_module": "@jupyter-widgets/base",
          "model_name": "LayoutModel",
          "state": {
            "_model_module": "@jupyter-widgets/base",
            "_model_module_version": "1.2.0",
            "_model_name": "LayoutModel",
            "_view_count": null,
            "_view_module": "@jupyter-widgets/base",
            "_view_module_version": "1.2.0",
            "_view_name": "LayoutView",
            "align_content": null,
            "align_items": null,
            "align_self": null,
            "border": null,
            "bottom": null,
            "display": null,
            "flex": null,
            "flex_flow": null,
            "grid_area": null,
            "grid_auto_columns": null,
            "grid_auto_flow": null,
            "grid_auto_rows": null,
            "grid_column": null,
            "grid_gap": null,
            "grid_row": null,
            "grid_template_areas": null,
            "grid_template_columns": null,
            "grid_template_rows": null,
            "height": null,
            "justify_content": null,
            "justify_items": null,
            "left": null,
            "margin": null,
            "max_height": null,
            "max_width": null,
            "min_height": null,
            "min_width": null,
            "object_fit": null,
            "object_position": null,
            "order": null,
            "overflow": null,
            "overflow_x": null,
            "overflow_y": null,
            "padding": null,
            "right": null,
            "top": null,
            "visibility": null,
            "width": null
          }
        },
        "f07dc513b98e46c0bfa35ed4a41acc8c": {
          "model_module": "@jupyter-widgets/controls",
          "model_name": "HBoxModel",
          "state": {
            "_dom_classes": [],
            "_model_module": "@jupyter-widgets/controls",
            "_model_module_version": "1.5.0",
            "_model_name": "HBoxModel",
            "_view_count": null,
            "_view_module": "@jupyter-widgets/controls",
            "_view_module_version": "1.5.0",
            "_view_name": "HBoxView",
            "box_style": "",
            "children": [
              "IPY_MODEL_afa5c29e599b4cb3a82344b18790ae47",
              "IPY_MODEL_5327659a24ed4190980e10663bdd0808"
            ],
            "layout": "IPY_MODEL_04c8a69915ca4efaa07a79138f65002b"
          }
        },
        "04c8a69915ca4efaa07a79138f65002b": {
          "model_module": "@jupyter-widgets/base",
          "model_name": "LayoutModel",
          "state": {
            "_model_module": "@jupyter-widgets/base",
            "_model_module_version": "1.2.0",
            "_model_name": "LayoutModel",
            "_view_count": null,
            "_view_module": "@jupyter-widgets/base",
            "_view_module_version": "1.2.0",
            "_view_name": "LayoutView",
            "align_content": null,
            "align_items": null,
            "align_self": null,
            "border": null,
            "bottom": null,
            "display": null,
            "flex": null,
            "flex_flow": null,
            "grid_area": null,
            "grid_auto_columns": null,
            "grid_auto_flow": null,
            "grid_auto_rows": null,
            "grid_column": null,
            "grid_gap": null,
            "grid_row": null,
            "grid_template_areas": null,
            "grid_template_columns": null,
            "grid_template_rows": null,
            "height": null,
            "justify_content": null,
            "justify_items": null,
            "left": null,
            "margin": null,
            "max_height": null,
            "max_width": null,
            "min_height": null,
            "min_width": null,
            "object_fit": null,
            "object_position": null,
            "order": null,
            "overflow": null,
            "overflow_x": null,
            "overflow_y": null,
            "padding": null,
            "right": null,
            "top": null,
            "visibility": null,
            "width": null
          }
        },
        "afa5c29e599b4cb3a82344b18790ae47": {
          "model_module": "@jupyter-widgets/controls",
          "model_name": "IntProgressModel",
          "state": {
            "_dom_classes": [],
            "_model_module": "@jupyter-widgets/controls",
            "_model_module_version": "1.5.0",
            "_model_name": "IntProgressModel",
            "_view_count": null,
            "_view_module": "@jupyter-widgets/controls",
            "_view_module_version": "1.5.0",
            "_view_name": "ProgressView",
            "bar_style": "success",
            "description": "100%",
            "description_tooltip": null,
            "layout": "IPY_MODEL_6dbde4b525fe4d4f9ce90fc3fa23b4e5",
            "max": 2000,
            "min": 0,
            "orientation": "horizontal",
            "style": "IPY_MODEL_c56dbda23f744b0c975587f749fcb706",
            "value": 2000
          }
        },
        "5327659a24ed4190980e10663bdd0808": {
          "model_module": "@jupyter-widgets/controls",
          "model_name": "HTMLModel",
          "state": {
            "_dom_classes": [],
            "_model_module": "@jupyter-widgets/controls",
            "_model_module_version": "1.5.0",
            "_model_name": "HTMLModel",
            "_view_count": null,
            "_view_module": "@jupyter-widgets/controls",
            "_view_module_version": "1.5.0",
            "_view_name": "HTMLView",
            "description": "",
            "description_tooltip": null,
            "layout": "IPY_MODEL_22ce2b43cac94f859c85b7541138b3b7",
            "placeholder": "​",
            "style": "IPY_MODEL_93581bbb85b84117acb70ee81551aa83",
            "value": " 2000/2000 [00:08&lt;00:00, 230.29epoch/s]"
          }
        },
        "c56dbda23f744b0c975587f749fcb706": {
          "model_module": "@jupyter-widgets/controls",
          "model_name": "ProgressStyleModel",
          "state": {
            "_model_module": "@jupyter-widgets/controls",
            "_model_module_version": "1.5.0",
            "_model_name": "ProgressStyleModel",
            "_view_count": null,
            "_view_module": "@jupyter-widgets/base",
            "_view_module_version": "1.2.0",
            "_view_name": "StyleView",
            "bar_color": null,
            "description_width": "initial"
          }
        },
        "6dbde4b525fe4d4f9ce90fc3fa23b4e5": {
          "model_module": "@jupyter-widgets/base",
          "model_name": "LayoutModel",
          "state": {
            "_model_module": "@jupyter-widgets/base",
            "_model_module_version": "1.2.0",
            "_model_name": "LayoutModel",
            "_view_count": null,
            "_view_module": "@jupyter-widgets/base",
            "_view_module_version": "1.2.0",
            "_view_name": "LayoutView",
            "align_content": null,
            "align_items": null,
            "align_self": null,
            "border": null,
            "bottom": null,
            "display": null,
            "flex": null,
            "flex_flow": null,
            "grid_area": null,
            "grid_auto_columns": null,
            "grid_auto_flow": null,
            "grid_auto_rows": null,
            "grid_column": null,
            "grid_gap": null,
            "grid_row": null,
            "grid_template_areas": null,
            "grid_template_columns": null,
            "grid_template_rows": null,
            "height": null,
            "justify_content": null,
            "justify_items": null,
            "left": null,
            "margin": null,
            "max_height": null,
            "max_width": null,
            "min_height": null,
            "min_width": null,
            "object_fit": null,
            "object_position": null,
            "order": null,
            "overflow": null,
            "overflow_x": null,
            "overflow_y": null,
            "padding": null,
            "right": null,
            "top": null,
            "visibility": null,
            "width": null
          }
        },
        "93581bbb85b84117acb70ee81551aa83": {
          "model_module": "@jupyter-widgets/controls",
          "model_name": "DescriptionStyleModel",
          "state": {
            "_model_module": "@jupyter-widgets/controls",
            "_model_module_version": "1.5.0",
            "_model_name": "DescriptionStyleModel",
            "_view_count": null,
            "_view_module": "@jupyter-widgets/base",
            "_view_module_version": "1.2.0",
            "_view_name": "StyleView",
            "description_width": ""
          }
        },
        "22ce2b43cac94f859c85b7541138b3b7": {
          "model_module": "@jupyter-widgets/base",
          "model_name": "LayoutModel",
          "state": {
            "_model_module": "@jupyter-widgets/base",
            "_model_module_version": "1.2.0",
            "_model_name": "LayoutModel",
            "_view_count": null,
            "_view_module": "@jupyter-widgets/base",
            "_view_module_version": "1.2.0",
            "_view_name": "LayoutView",
            "align_content": null,
            "align_items": null,
            "align_self": null,
            "border": null,
            "bottom": null,
            "display": null,
            "flex": null,
            "flex_flow": null,
            "grid_area": null,
            "grid_auto_columns": null,
            "grid_auto_flow": null,
            "grid_auto_rows": null,
            "grid_column": null,
            "grid_gap": null,
            "grid_row": null,
            "grid_template_areas": null,
            "grid_template_columns": null,
            "grid_template_rows": null,
            "height": null,
            "justify_content": null,
            "justify_items": null,
            "left": null,
            "margin": null,
            "max_height": null,
            "max_width": null,
            "min_height": null,
            "min_width": null,
            "object_fit": null,
            "object_position": null,
            "order": null,
            "overflow": null,
            "overflow_x": null,
            "overflow_y": null,
            "padding": null,
            "right": null,
            "top": null,
            "visibility": null,
            "width": null
          }
        },
        "4093fdbd000247569135bed22f0f98fe": {
          "model_module": "@jupyter-widgets/controls",
          "model_name": "HBoxModel",
          "state": {
            "_dom_classes": [],
            "_model_module": "@jupyter-widgets/controls",
            "_model_module_version": "1.5.0",
            "_model_name": "HBoxModel",
            "_view_count": null,
            "_view_module": "@jupyter-widgets/controls",
            "_view_module_version": "1.5.0",
            "_view_name": "HBoxView",
            "box_style": "",
            "children": [
              "IPY_MODEL_045be5afe3bd4fbb81e44e458d03bff9",
              "IPY_MODEL_18de171891fb428489e80098e669ddb7"
            ],
            "layout": "IPY_MODEL_33f86218d45b477086f6580928a30f78"
          }
        },
        "33f86218d45b477086f6580928a30f78": {
          "model_module": "@jupyter-widgets/base",
          "model_name": "LayoutModel",
          "state": {
            "_model_module": "@jupyter-widgets/base",
            "_model_module_version": "1.2.0",
            "_model_name": "LayoutModel",
            "_view_count": null,
            "_view_module": "@jupyter-widgets/base",
            "_view_module_version": "1.2.0",
            "_view_name": "LayoutView",
            "align_content": null,
            "align_items": null,
            "align_self": null,
            "border": null,
            "bottom": null,
            "display": null,
            "flex": null,
            "flex_flow": null,
            "grid_area": null,
            "grid_auto_columns": null,
            "grid_auto_flow": null,
            "grid_auto_rows": null,
            "grid_column": null,
            "grid_gap": null,
            "grid_row": null,
            "grid_template_areas": null,
            "grid_template_columns": null,
            "grid_template_rows": null,
            "height": null,
            "justify_content": null,
            "justify_items": null,
            "left": null,
            "margin": null,
            "max_height": null,
            "max_width": null,
            "min_height": null,
            "min_width": null,
            "object_fit": null,
            "object_position": null,
            "order": null,
            "overflow": null,
            "overflow_x": null,
            "overflow_y": null,
            "padding": null,
            "right": null,
            "top": null,
            "visibility": null,
            "width": null
          }
        },
        "045be5afe3bd4fbb81e44e458d03bff9": {
          "model_module": "@jupyter-widgets/controls",
          "model_name": "IntProgressModel",
          "state": {
            "_dom_classes": [],
            "_model_module": "@jupyter-widgets/controls",
            "_model_module_version": "1.5.0",
            "_model_name": "IntProgressModel",
            "_view_count": null,
            "_view_module": "@jupyter-widgets/controls",
            "_view_module_version": "1.5.0",
            "_view_name": "ProgressView",
            "bar_style": "success",
            "description": "100%",
            "description_tooltip": null,
            "layout": "IPY_MODEL_9095505687fc4a7da846da9a5a6541e8",
            "max": 2000,
            "min": 0,
            "orientation": "horizontal",
            "style": "IPY_MODEL_9c0f93d2f3e440e5aa9e1224e627d15e",
            "value": 2000
          }
        },
        "18de171891fb428489e80098e669ddb7": {
          "model_module": "@jupyter-widgets/controls",
          "model_name": "HTMLModel",
          "state": {
            "_dom_classes": [],
            "_model_module": "@jupyter-widgets/controls",
            "_model_module_version": "1.5.0",
            "_model_name": "HTMLModel",
            "_view_count": null,
            "_view_module": "@jupyter-widgets/controls",
            "_view_module_version": "1.5.0",
            "_view_name": "HTMLView",
            "description": "",
            "description_tooltip": null,
            "layout": "IPY_MODEL_9aa987bcf9684911a2e1cbf525aa798f",
            "placeholder": "​",
            "style": "IPY_MODEL_24322e76c24e47deac3fae4778830c7c",
            "value": " 2000/2000 [00:05&lt;00:00, 345.95epoch/s]"
          }
        },
        "9c0f93d2f3e440e5aa9e1224e627d15e": {
          "model_module": "@jupyter-widgets/controls",
          "model_name": "ProgressStyleModel",
          "state": {
            "_model_module": "@jupyter-widgets/controls",
            "_model_module_version": "1.5.0",
            "_model_name": "ProgressStyleModel",
            "_view_count": null,
            "_view_module": "@jupyter-widgets/base",
            "_view_module_version": "1.2.0",
            "_view_name": "StyleView",
            "bar_color": null,
            "description_width": "initial"
          }
        },
        "9095505687fc4a7da846da9a5a6541e8": {
          "model_module": "@jupyter-widgets/base",
          "model_name": "LayoutModel",
          "state": {
            "_model_module": "@jupyter-widgets/base",
            "_model_module_version": "1.2.0",
            "_model_name": "LayoutModel",
            "_view_count": null,
            "_view_module": "@jupyter-widgets/base",
            "_view_module_version": "1.2.0",
            "_view_name": "LayoutView",
            "align_content": null,
            "align_items": null,
            "align_self": null,
            "border": null,
            "bottom": null,
            "display": null,
            "flex": null,
            "flex_flow": null,
            "grid_area": null,
            "grid_auto_columns": null,
            "grid_auto_flow": null,
            "grid_auto_rows": null,
            "grid_column": null,
            "grid_gap": null,
            "grid_row": null,
            "grid_template_areas": null,
            "grid_template_columns": null,
            "grid_template_rows": null,
            "height": null,
            "justify_content": null,
            "justify_items": null,
            "left": null,
            "margin": null,
            "max_height": null,
            "max_width": null,
            "min_height": null,
            "min_width": null,
            "object_fit": null,
            "object_position": null,
            "order": null,
            "overflow": null,
            "overflow_x": null,
            "overflow_y": null,
            "padding": null,
            "right": null,
            "top": null,
            "visibility": null,
            "width": null
          }
        },
        "24322e76c24e47deac3fae4778830c7c": {
          "model_module": "@jupyter-widgets/controls",
          "model_name": "DescriptionStyleModel",
          "state": {
            "_model_module": "@jupyter-widgets/controls",
            "_model_module_version": "1.5.0",
            "_model_name": "DescriptionStyleModel",
            "_view_count": null,
            "_view_module": "@jupyter-widgets/base",
            "_view_module_version": "1.2.0",
            "_view_name": "StyleView",
            "description_width": ""
          }
        },
        "9aa987bcf9684911a2e1cbf525aa798f": {
          "model_module": "@jupyter-widgets/base",
          "model_name": "LayoutModel",
          "state": {
            "_model_module": "@jupyter-widgets/base",
            "_model_module_version": "1.2.0",
            "_model_name": "LayoutModel",
            "_view_count": null,
            "_view_module": "@jupyter-widgets/base",
            "_view_module_version": "1.2.0",
            "_view_name": "LayoutView",
            "align_content": null,
            "align_items": null,
            "align_self": null,
            "border": null,
            "bottom": null,
            "display": null,
            "flex": null,
            "flex_flow": null,
            "grid_area": null,
            "grid_auto_columns": null,
            "grid_auto_flow": null,
            "grid_auto_rows": null,
            "grid_column": null,
            "grid_gap": null,
            "grid_row": null,
            "grid_template_areas": null,
            "grid_template_columns": null,
            "grid_template_rows": null,
            "height": null,
            "justify_content": null,
            "justify_items": null,
            "left": null,
            "margin": null,
            "max_height": null,
            "max_width": null,
            "min_height": null,
            "min_width": null,
            "object_fit": null,
            "object_position": null,
            "order": null,
            "overflow": null,
            "overflow_x": null,
            "overflow_y": null,
            "padding": null,
            "right": null,
            "top": null,
            "visibility": null,
            "width": null
          }
        },
        "84a05cb1bb7448719e5d6f3828273556": {
          "model_module": "@jupyter-widgets/controls",
          "model_name": "HBoxModel",
          "state": {
            "_dom_classes": [],
            "_model_module": "@jupyter-widgets/controls",
            "_model_module_version": "1.5.0",
            "_model_name": "HBoxModel",
            "_view_count": null,
            "_view_module": "@jupyter-widgets/controls",
            "_view_module_version": "1.5.0",
            "_view_name": "HBoxView",
            "box_style": "",
            "children": [
              "IPY_MODEL_c20c9479839f4a5e9c76326774ac9334",
              "IPY_MODEL_21a9453d827f466c84c9f3fbabe0088c"
            ],
            "layout": "IPY_MODEL_b76242f226db4021829668fd4ab0a41e"
          }
        },
        "b76242f226db4021829668fd4ab0a41e": {
          "model_module": "@jupyter-widgets/base",
          "model_name": "LayoutModel",
          "state": {
            "_model_module": "@jupyter-widgets/base",
            "_model_module_version": "1.2.0",
            "_model_name": "LayoutModel",
            "_view_count": null,
            "_view_module": "@jupyter-widgets/base",
            "_view_module_version": "1.2.0",
            "_view_name": "LayoutView",
            "align_content": null,
            "align_items": null,
            "align_self": null,
            "border": null,
            "bottom": null,
            "display": null,
            "flex": null,
            "flex_flow": null,
            "grid_area": null,
            "grid_auto_columns": null,
            "grid_auto_flow": null,
            "grid_auto_rows": null,
            "grid_column": null,
            "grid_gap": null,
            "grid_row": null,
            "grid_template_areas": null,
            "grid_template_columns": null,
            "grid_template_rows": null,
            "height": null,
            "justify_content": null,
            "justify_items": null,
            "left": null,
            "margin": null,
            "max_height": null,
            "max_width": null,
            "min_height": null,
            "min_width": null,
            "object_fit": null,
            "object_position": null,
            "order": null,
            "overflow": null,
            "overflow_x": null,
            "overflow_y": null,
            "padding": null,
            "right": null,
            "top": null,
            "visibility": null,
            "width": null
          }
        },
        "c20c9479839f4a5e9c76326774ac9334": {
          "model_module": "@jupyter-widgets/controls",
          "model_name": "IntProgressModel",
          "state": {
            "_dom_classes": [],
            "_model_module": "@jupyter-widgets/controls",
            "_model_module_version": "1.5.0",
            "_model_name": "IntProgressModel",
            "_view_count": null,
            "_view_module": "@jupyter-widgets/controls",
            "_view_module_version": "1.5.0",
            "_view_name": "ProgressView",
            "bar_style": "success",
            "description": "100%",
            "description_tooltip": null,
            "layout": "IPY_MODEL_f07fbaaa6d244dbeb26fbd906f5071b2",
            "max": 2000,
            "min": 0,
            "orientation": "horizontal",
            "style": "IPY_MODEL_71fe153db92b42a4ae87972a767c9bc2",
            "value": 2000
          }
        },
        "21a9453d827f466c84c9f3fbabe0088c": {
          "model_module": "@jupyter-widgets/controls",
          "model_name": "HTMLModel",
          "state": {
            "_dom_classes": [],
            "_model_module": "@jupyter-widgets/controls",
            "_model_module_version": "1.5.0",
            "_model_name": "HTMLModel",
            "_view_count": null,
            "_view_module": "@jupyter-widgets/controls",
            "_view_module_version": "1.5.0",
            "_view_name": "HTMLView",
            "description": "",
            "description_tooltip": null,
            "layout": "IPY_MODEL_2eee735146944978a4f4e611e334591f",
            "placeholder": "​",
            "style": "IPY_MODEL_c74bcd5b71c94512a5e5e10546441e49",
            "value": " 2000/2000 [00:05&lt;00:00, 343.67epoch/s]"
          }
        },
        "71fe153db92b42a4ae87972a767c9bc2": {
          "model_module": "@jupyter-widgets/controls",
          "model_name": "ProgressStyleModel",
          "state": {
            "_model_module": "@jupyter-widgets/controls",
            "_model_module_version": "1.5.0",
            "_model_name": "ProgressStyleModel",
            "_view_count": null,
            "_view_module": "@jupyter-widgets/base",
            "_view_module_version": "1.2.0",
            "_view_name": "StyleView",
            "bar_color": null,
            "description_width": "initial"
          }
        },
        "f07fbaaa6d244dbeb26fbd906f5071b2": {
          "model_module": "@jupyter-widgets/base",
          "model_name": "LayoutModel",
          "state": {
            "_model_module": "@jupyter-widgets/base",
            "_model_module_version": "1.2.0",
            "_model_name": "LayoutModel",
            "_view_count": null,
            "_view_module": "@jupyter-widgets/base",
            "_view_module_version": "1.2.0",
            "_view_name": "LayoutView",
            "align_content": null,
            "align_items": null,
            "align_self": null,
            "border": null,
            "bottom": null,
            "display": null,
            "flex": null,
            "flex_flow": null,
            "grid_area": null,
            "grid_auto_columns": null,
            "grid_auto_flow": null,
            "grid_auto_rows": null,
            "grid_column": null,
            "grid_gap": null,
            "grid_row": null,
            "grid_template_areas": null,
            "grid_template_columns": null,
            "grid_template_rows": null,
            "height": null,
            "justify_content": null,
            "justify_items": null,
            "left": null,
            "margin": null,
            "max_height": null,
            "max_width": null,
            "min_height": null,
            "min_width": null,
            "object_fit": null,
            "object_position": null,
            "order": null,
            "overflow": null,
            "overflow_x": null,
            "overflow_y": null,
            "padding": null,
            "right": null,
            "top": null,
            "visibility": null,
            "width": null
          }
        },
        "c74bcd5b71c94512a5e5e10546441e49": {
          "model_module": "@jupyter-widgets/controls",
          "model_name": "DescriptionStyleModel",
          "state": {
            "_model_module": "@jupyter-widgets/controls",
            "_model_module_version": "1.5.0",
            "_model_name": "DescriptionStyleModel",
            "_view_count": null,
            "_view_module": "@jupyter-widgets/base",
            "_view_module_version": "1.2.0",
            "_view_name": "StyleView",
            "description_width": ""
          }
        },
        "2eee735146944978a4f4e611e334591f": {
          "model_module": "@jupyter-widgets/base",
          "model_name": "LayoutModel",
          "state": {
            "_model_module": "@jupyter-widgets/base",
            "_model_module_version": "1.2.0",
            "_model_name": "LayoutModel",
            "_view_count": null,
            "_view_module": "@jupyter-widgets/base",
            "_view_module_version": "1.2.0",
            "_view_name": "LayoutView",
            "align_content": null,
            "align_items": null,
            "align_self": null,
            "border": null,
            "bottom": null,
            "display": null,
            "flex": null,
            "flex_flow": null,
            "grid_area": null,
            "grid_auto_columns": null,
            "grid_auto_flow": null,
            "grid_auto_rows": null,
            "grid_column": null,
            "grid_gap": null,
            "grid_row": null,
            "grid_template_areas": null,
            "grid_template_columns": null,
            "grid_template_rows": null,
            "height": null,
            "justify_content": null,
            "justify_items": null,
            "left": null,
            "margin": null,
            "max_height": null,
            "max_width": null,
            "min_height": null,
            "min_width": null,
            "object_fit": null,
            "object_position": null,
            "order": null,
            "overflow": null,
            "overflow_x": null,
            "overflow_y": null,
            "padding": null,
            "right": null,
            "top": null,
            "visibility": null,
            "width": null
          }
        },
        "cc3b88d0011e43e9ab72faa78104499c": {
          "model_module": "@jupyter-widgets/controls",
          "model_name": "HBoxModel",
          "state": {
            "_dom_classes": [],
            "_model_module": "@jupyter-widgets/controls",
            "_model_module_version": "1.5.0",
            "_model_name": "HBoxModel",
            "_view_count": null,
            "_view_module": "@jupyter-widgets/controls",
            "_view_module_version": "1.5.0",
            "_view_name": "HBoxView",
            "box_style": "",
            "children": [
              "IPY_MODEL_56acd8644e0049119a729cd15965783b",
              "IPY_MODEL_fa854c086df540cb90769c7a6bfa92e0"
            ],
            "layout": "IPY_MODEL_8830438369104887a7abd739cb342fb4"
          }
        },
        "8830438369104887a7abd739cb342fb4": {
          "model_module": "@jupyter-widgets/base",
          "model_name": "LayoutModel",
          "state": {
            "_model_module": "@jupyter-widgets/base",
            "_model_module_version": "1.2.0",
            "_model_name": "LayoutModel",
            "_view_count": null,
            "_view_module": "@jupyter-widgets/base",
            "_view_module_version": "1.2.0",
            "_view_name": "LayoutView",
            "align_content": null,
            "align_items": null,
            "align_self": null,
            "border": null,
            "bottom": null,
            "display": null,
            "flex": null,
            "flex_flow": null,
            "grid_area": null,
            "grid_auto_columns": null,
            "grid_auto_flow": null,
            "grid_auto_rows": null,
            "grid_column": null,
            "grid_gap": null,
            "grid_row": null,
            "grid_template_areas": null,
            "grid_template_columns": null,
            "grid_template_rows": null,
            "height": null,
            "justify_content": null,
            "justify_items": null,
            "left": null,
            "margin": null,
            "max_height": null,
            "max_width": null,
            "min_height": null,
            "min_width": null,
            "object_fit": null,
            "object_position": null,
            "order": null,
            "overflow": null,
            "overflow_x": null,
            "overflow_y": null,
            "padding": null,
            "right": null,
            "top": null,
            "visibility": null,
            "width": null
          }
        },
        "56acd8644e0049119a729cd15965783b": {
          "model_module": "@jupyter-widgets/controls",
          "model_name": "IntProgressModel",
          "state": {
            "_dom_classes": [],
            "_model_module": "@jupyter-widgets/controls",
            "_model_module_version": "1.5.0",
            "_model_name": "IntProgressModel",
            "_view_count": null,
            "_view_module": "@jupyter-widgets/controls",
            "_view_module_version": "1.5.0",
            "_view_name": "ProgressView",
            "bar_style": "success",
            "description": "100%",
            "description_tooltip": null,
            "layout": "IPY_MODEL_84ab1709adb24c15a2f73ab95891e8d3",
            "max": 2000,
            "min": 0,
            "orientation": "horizontal",
            "style": "IPY_MODEL_4a55575a9bd64853bb490385c7daf406",
            "value": 2000
          }
        },
        "fa854c086df540cb90769c7a6bfa92e0": {
          "model_module": "@jupyter-widgets/controls",
          "model_name": "HTMLModel",
          "state": {
            "_dom_classes": [],
            "_model_module": "@jupyter-widgets/controls",
            "_model_module_version": "1.5.0",
            "_model_name": "HTMLModel",
            "_view_count": null,
            "_view_module": "@jupyter-widgets/controls",
            "_view_module_version": "1.5.0",
            "_view_name": "HTMLView",
            "description": "",
            "description_tooltip": null,
            "layout": "IPY_MODEL_4686319c27db491488d8fe578ef322b1",
            "placeholder": "​",
            "style": "IPY_MODEL_48a11622fb684c7d801a1a3ef9c8883d",
            "value": " 2000/2000 [00:05&lt;00:00, 342.11epoch/s]"
          }
        },
        "4a55575a9bd64853bb490385c7daf406": {
          "model_module": "@jupyter-widgets/controls",
          "model_name": "ProgressStyleModel",
          "state": {
            "_model_module": "@jupyter-widgets/controls",
            "_model_module_version": "1.5.0",
            "_model_name": "ProgressStyleModel",
            "_view_count": null,
            "_view_module": "@jupyter-widgets/base",
            "_view_module_version": "1.2.0",
            "_view_name": "StyleView",
            "bar_color": null,
            "description_width": "initial"
          }
        },
        "84ab1709adb24c15a2f73ab95891e8d3": {
          "model_module": "@jupyter-widgets/base",
          "model_name": "LayoutModel",
          "state": {
            "_model_module": "@jupyter-widgets/base",
            "_model_module_version": "1.2.0",
            "_model_name": "LayoutModel",
            "_view_count": null,
            "_view_module": "@jupyter-widgets/base",
            "_view_module_version": "1.2.0",
            "_view_name": "LayoutView",
            "align_content": null,
            "align_items": null,
            "align_self": null,
            "border": null,
            "bottom": null,
            "display": null,
            "flex": null,
            "flex_flow": null,
            "grid_area": null,
            "grid_auto_columns": null,
            "grid_auto_flow": null,
            "grid_auto_rows": null,
            "grid_column": null,
            "grid_gap": null,
            "grid_row": null,
            "grid_template_areas": null,
            "grid_template_columns": null,
            "grid_template_rows": null,
            "height": null,
            "justify_content": null,
            "justify_items": null,
            "left": null,
            "margin": null,
            "max_height": null,
            "max_width": null,
            "min_height": null,
            "min_width": null,
            "object_fit": null,
            "object_position": null,
            "order": null,
            "overflow": null,
            "overflow_x": null,
            "overflow_y": null,
            "padding": null,
            "right": null,
            "top": null,
            "visibility": null,
            "width": null
          }
        },
        "48a11622fb684c7d801a1a3ef9c8883d": {
          "model_module": "@jupyter-widgets/controls",
          "model_name": "DescriptionStyleModel",
          "state": {
            "_model_module": "@jupyter-widgets/controls",
            "_model_module_version": "1.5.0",
            "_model_name": "DescriptionStyleModel",
            "_view_count": null,
            "_view_module": "@jupyter-widgets/base",
            "_view_module_version": "1.2.0",
            "_view_name": "StyleView",
            "description_width": ""
          }
        },
        "4686319c27db491488d8fe578ef322b1": {
          "model_module": "@jupyter-widgets/base",
          "model_name": "LayoutModel",
          "state": {
            "_model_module": "@jupyter-widgets/base",
            "_model_module_version": "1.2.0",
            "_model_name": "LayoutModel",
            "_view_count": null,
            "_view_module": "@jupyter-widgets/base",
            "_view_module_version": "1.2.0",
            "_view_name": "LayoutView",
            "align_content": null,
            "align_items": null,
            "align_self": null,
            "border": null,
            "bottom": null,
            "display": null,
            "flex": null,
            "flex_flow": null,
            "grid_area": null,
            "grid_auto_columns": null,
            "grid_auto_flow": null,
            "grid_auto_rows": null,
            "grid_column": null,
            "grid_gap": null,
            "grid_row": null,
            "grid_template_areas": null,
            "grid_template_columns": null,
            "grid_template_rows": null,
            "height": null,
            "justify_content": null,
            "justify_items": null,
            "left": null,
            "margin": null,
            "max_height": null,
            "max_width": null,
            "min_height": null,
            "min_width": null,
            "object_fit": null,
            "object_position": null,
            "order": null,
            "overflow": null,
            "overflow_x": null,
            "overflow_y": null,
            "padding": null,
            "right": null,
            "top": null,
            "visibility": null,
            "width": null
          }
        }
      }
    },
    "accelerator": "GPU"
  },
  "cells": [
    {
      "cell_type": "markdown",
      "metadata": {
        "colab_type": "text",
        "id": "0sav1-zSCkGF"
      },
      "source": [
        "# **References**:\n",
        "1. https://www.kaggle.com/ilyamich/mfcc-implementation-and-tutorial\n",
        "2. https://medium.com/@jonathan_hui/speech-recognition-feature-extraction-mfcc-plp-5455f5a69dd9\n",
        "3. http://practicalcryptography.com/miscellaneous/machine-learning/guide-mel-frequency-cepstral-coefficients-mfccs/\n"
      ]
    },
    {
      "cell_type": "markdown",
      "metadata": {
        "colab_type": "text",
        "id": "y8GzUBfgFE_D"
      },
      "source": [
        "# **Importing Libraries** "
      ]
    },
    {
      "cell_type": "code",
      "metadata": {
        "colab_type": "code",
        "id": "FaD6d0-jXWd3",
        "colab": {}
      },
      "source": [
        "import numpy as np\n",
        "import pandas as pd\n",
        "import matplotlib.pyplot as plt\n",
        "from scipy.io import wavfile\n",
        "from scipy.signal import get_window\n",
        "import scipy.fftpack as fft\n",
        "import IPython.display as ipd\n",
        "from sklearn.model_selection import train_test_split\n",
        "from sklearn.model_selection import KFold \n",
        "from sklearn.preprocessing import StandardScaler\n",
        "from tqdm import tqdm_notebook\n",
        "from sklearn.metrics import accuracy_score, mean_squared_error\n",
        "import torch\n",
        "import torch.nn as nn\n",
        "from sklearn.preprocessing import OneHotEncoder\n",
        "from torch import optim\n",
        "import time\n",
        "from sklearn.utils import shuffle\n",
        "from sklearn.metrics import confusion_matrix,classification_report\n",
        "import copy"
      ],
      "execution_count": 0,
      "outputs": []
    },
    {
      "cell_type": "markdown",
      "metadata": {
        "colab_type": "text",
        "id": "wsecbwqGFL8C"
      },
      "source": [
        "# **Function Definition** "
      ]
    },
    {
      "cell_type": "code",
      "metadata": {
        "colab_type": "code",
        "id": "Xpojl29RXaW5",
        "colab": {}
      },
      "source": [
        "def frame_audio(audio, FFT_size=2048, hop_size=10, sample_rate=44100): # hop_size in ms\n",
        "  audio = np.pad(audio, int(FFT_size / 2), mode='reflect')\n",
        "  frame_len = np.round(sample_rate * hop_size / 1000).astype(int)\n",
        "  frame_num = int((len(audio) - FFT_size) / frame_len) + 1\n",
        "  frames = np.zeros((frame_num,FFT_size))\n",
        "  \n",
        "  for n in range(frame_num):\n",
        "      frames[n] = audio[n*frame_len:n*frame_len+FFT_size]\n",
        "  \n",
        "  return frames\n",
        "\n",
        "def freq_to_mel(freq):\n",
        "  return 2595.0 * np.log10(1.0 + freq / 700.0)\n",
        "\n",
        "def met_to_freq(mels):\n",
        "  return 700.0 * (10.0**(mels / 2595.0) - 1.0)\n",
        "\n",
        "def get_filter_points(fmin, fmax, mel_filter_num, FFT_size, sample_rate=44100):\n",
        "  fmin_mel = freq_to_mel(fmin)\n",
        "  fmax_mel = freq_to_mel(fmax)\n",
        "  \n",
        "#  print(\"MEL min: {0}\".format(fmin_mel))\n",
        "#  print(\"MEL max: {0}\".format(fmax_mel))\n",
        "  \n",
        "  mels = np.linspace(fmin_mel, fmax_mel, num=mel_filter_num+2)\n",
        "  freqs = met_to_freq(mels)\n",
        "  \n",
        "  return np.floor((FFT_size + 1) / sample_rate * freqs).astype(int), freqs\n",
        "\n",
        "def get_filters(filter_points, FFT_size):\n",
        "  filters = np.zeros((len(filter_points)-2,int(FFT_size/2+1)))\n",
        "  \n",
        "  for n in range(len(filter_points)-2):\n",
        "    filters[n, filter_points[n] : filter_points[n + 1]] = np.linspace(0, 1, filter_points[n + 1] - filter_points[n])\n",
        "    filters[n, filter_points[n + 1] : filter_points[n + 2]] = np.linspace(1, 0, filter_points[n + 2] - filter_points[n + 1])\n",
        "  \n",
        "  return filters\n",
        "\n",
        "def dct(dct_filter_num, filter_len):\n",
        "  basis = np.empty((dct_filter_num,filter_len))\n",
        "  basis[0, :] = 1.0 / np.sqrt(filter_len)\n",
        "  \n",
        "  samples = np.arange(1, 2 * filter_len, 2) * np.pi / (2.0 * filter_len)\n",
        "\n",
        "  for i in range(1, dct_filter_num):\n",
        "    basis[i, :] = np.cos(i * samples) * np.sqrt(2.0 / filter_len)\n",
        "      \n",
        "  return basis\n",
        "\n",
        "def run_FFNN(X_train_scaled,X_test_scaled,Y_OH_train,Y_OH_test,class_name=\"FFNNetwork_Regularized\",Epochs=6000,save_fig = True, save_dir='/content/VOICE_dataset/Outputs/', save_name='FFNN_with_PyTorch'):\n",
        "  if(class_name == \"FFNNetwork_Regularized\"):\n",
        "    fn = FFNNetwork_Regularized()\n",
        "  elif(class_name == \"FFNNetwork\"):\n",
        "    fn = FFNNetwork()\n",
        "  loss_fn = fn.cross_entropy\n",
        "  opt = optim.SGD(fn.parameters(), lr=0.9)\n",
        "  #opt = optim.Adam(fn.parameters(),weight_decay=0.05)\n",
        "  device = torch.device(\"cuda:0\" if torch.cuda.is_available() else \"cpu\")\n",
        "\n",
        "  X_train_scaled = X_train_scaled.to(device)\n",
        "  Y_OH_train = Y_OH_train.to(device)\n",
        "  fn.to(device)\n",
        "\n",
        "  tic = time.time()\n",
        "  best_model = fit(X_train_scaled, Y_OH_train, fn, opt, loss_fn, epochs=Epochs)\n",
        "  toc = time.time()\n",
        "  fn.load_state_dict(best_model)\n",
        "  print(\"Time for training model: {}s\".format(np.round(toc-tic,3)))\n",
        "\n",
        "  X_test_scaled =X_test_scaled.to(device)\n",
        "  Y_OH_test=Y_OH_test.to(device)\n",
        "  \n",
        "  for k in [1]:\n",
        "    accuracy_train = fn.accuracy_n(fn.forward(X_train_scaled),Y_OH_train, topk=(k,))[0].item()\n",
        "    print('Training Accuracy (top-{}): {}'.format(k,accuracy_train))\n",
        "\n",
        "\n",
        "    accuracy_test = fn.accuracy_n(fn.forward(X_test_scaled),Y_OH_test, topk=(k,))[0].item()\n",
        "    print('Testing Accuracy (top-{}): {}'.format(k,accuracy_test))\n",
        "    print('\\n')\n",
        "    \n",
        "  cm = confusion_matrix(torch.argmax(Y_OH_test,dim=1).to(\"cpu\").numpy(), torch.argmax(fn.forward(X_test_scaled), dim=1).to(\"cpu\").to(\"cpu\").detach().numpy())\n",
        "  #print(cm)\n",
        "  fig = plt.figure()\n",
        "  ax = fig.add_subplot(111)\n",
        "  cax = ax.matshow(cm)\n",
        "  plt.title('Confusion matrix of the classifier')\n",
        "  fig.colorbar(cax)\n",
        "  #ax.set_xticklabels([''] + labels)\n",
        "  #ax.set_yticklabels([''] + labels)\n",
        "  plt.xlabel('Predicted')\n",
        "  plt.ylabel('True')\n",
        "  if(save_fig):\n",
        "    plt.savefig(save_dir+save_name+'_Confusion_matrix.png')\n",
        "  else:\n",
        "    plt.show()    \n",
        "\n",
        "#  if(save_model == True):\n",
        "#    torch.save(fn.to(\"cpu\").state_dict(), model_save_dir )\n",
        "#    torch.save(fn.state_dict(), save_dir) # saving the model\n",
        "\n",
        "  return fn.forward(X_test_scaled), accuracy_test, fn\n",
        "\n",
        "def fit(x, y, model, opt, loss_fn, epochs = 1000,save_fig = True, save_dir='/content/VOICE_dataset/Outputs/', save_name='FFNN_with_PyTorch_loss'):\n",
        "  min_loss = 10000\n",
        "  loss_arr = []\n",
        "  acc_arr = []\n",
        "  for epoch in range(epochs):\n",
        "    x, y = shuffle(x, y, random_state=0)\n",
        "    y_hat = model.forward(x)\n",
        "    loss = loss_fn(y_hat, y)\n",
        "    loss_arr.append(loss.item())\n",
        "    acc_arr.append(model.accuracy(y_hat,y))\n",
        "    loss.backward()\n",
        "    opt.step()\n",
        "    opt.zero_grad()\n",
        "    if min_loss > loss.item():\n",
        "      min_loss = loss.item()\n",
        "      best_model = copy.deepcopy(model.state_dict())\n",
        "  plt.plot(loss_arr, 'r-')\n",
        "  plt.plot(acc_arr, 'b-')\n",
        "  plt.xlabel(\"Epoch\")\n",
        "  plt.ylabel(\"Cross Entropy Loss\")\n",
        "  if(save_fig):\n",
        "    plt.savefig(save_dir+save_name+'_loss.png')\n",
        "  else:\n",
        "    plt.show()      \n",
        "  print('Loss before training', loss_arr[0])\n",
        "  print('Loss after training', min_loss)\n",
        "  return best_model"
      ],
      "execution_count": 0,
      "outputs": []
    },
    {
      "cell_type": "markdown",
      "metadata": {
        "colab_type": "text",
        "id": "ef6beYQLFn2H"
      },
      "source": [
        "# **Data Reduction**\n",
        "\n",
        "1. Generation of MFCC.\n",
        "2. Generation of Delta and Delta Delta coefficients."
      ]
    },
    {
      "cell_type": "code",
      "metadata": {
        "id": "xKSRPCO-xDKs",
        "colab_type": "code",
        "colab": {}
      },
      "source": [
        "!unzip Male_Voice.zip"
      ],
      "execution_count": 0,
      "outputs": []
    },
    {
      "cell_type": "code",
      "metadata": {
        "id": "kjXAOYyWBEu4",
        "colab_type": "code",
        "colab": {}
      },
      "source": [
        "!unzip Female_Voice.zip"
      ],
      "execution_count": 0,
      "outputs": []
    },
    {
      "cell_type": "code",
      "metadata": {
        "id": "poP2OQCABHCZ",
        "colab_type": "code",
        "colab": {}
      },
      "source": [
        "!unzip Outputs.zip"
      ],
      "execution_count": 0,
      "outputs": []
    },
    {
      "cell_type": "markdown",
      "metadata": {
        "colab_type": "text",
        "id": "t5i5vw3ZFUhM"
      },
      "source": [
        "## Enter here the number of male audio files and female audio files used."
      ]
    },
    {
      "cell_type": "code",
      "metadata": {
        "colab_type": "code",
        "id": "lJvpV_PRFSQd",
        "colab": {}
      },
      "source": [
        "num_files = [50,50] # [num_male_audio_files , num_female_audio_files]"
      ],
      "execution_count": 0,
      "outputs": []
    },
    {
      "cell_type": "markdown",
      "metadata": {
        "colab_type": "text",
        "id": "81LU4_iPIFEa"
      },
      "source": [
        "## Enter number of Mel Frequency Cepstral Coefficients to be used"
      ]
    },
    {
      "cell_type": "code",
      "metadata": {
        "colab_type": "code",
        "id": "3fO1bONoIN_2",
        "colab": {}
      },
      "source": [
        "num_mfcc = 18"
      ],
      "execution_count": 0,
      "outputs": []
    },
    {
      "cell_type": "code",
      "metadata": {
        "colab_type": "code",
        "id": "H8RCFt58FOBk",
        "outputId": "d2f6df09-6a5a-4e08-a335-e760a6ad542f",
        "colab": {
          "base_uri": "https://localhost:8080/",
          "height": 211
        }
      },
      "source": [
        "path = '/content'\n",
        "file_names = np.array([\"/Male Voice/male\",\"/Female Voice/female\"])\n",
        "male_data = np.array([])\n",
        "female_data = np.array([])\n",
        "for i in (range(file_names.size)):\n",
        "  for j in range(num_files[i]):\n",
        "    sample_rate, audio = wavfile.read(path+file_names[i]+\"_\"+str(j+1)+\".wav\")\n",
        "    if(audio.ndim == 2):\n",
        "      audio = audio.T[0]\n",
        "    norm_audio = audio/np.amax(np.abs(audio))\n",
        "    hop_size = 15 #ms\n",
        "    FFT_size = 2048\n",
        "\n",
        "    audio_framed = frame_audio(audio, FFT_size=FFT_size, hop_size=hop_size, sample_rate=sample_rate)\n",
        "    window = get_window(\"hann\", FFT_size, fftbins=True)\n",
        "    audio_win = audio_framed * window\n",
        "    audio_winT = np.transpose(audio_win)\n",
        "\n",
        "    audio_fft = np.empty((int(1 + FFT_size // 2), audio_winT.shape[1]), dtype=np.complex64, order='F')\n",
        "\n",
        "    for n in range(audio_fft.shape[1]):\n",
        "      audio_fft[:, n] = fft.fft(audio_winT[:, n], axis=0)[:audio_fft.shape[0]]\n",
        "\n",
        "    audio_fft = np.transpose(audio_fft)\n",
        "    audio_power = np.square(np.abs(audio_fft))\n",
        "    freq_min = 0\n",
        "    freq_high = sample_rate / 2\n",
        "    mel_filter_num = 10\n",
        "    filter_points, mel_freqs = get_filter_points(freq_min, freq_high, mel_filter_num, FFT_size, sample_rate=44100)\n",
        "    if((i == 1 and j == 16) or (i == 1 and j == 15)):\n",
        "      print(filter_points.shape)\n",
        "    filters = get_filters(filter_points, FFT_size)\n",
        "    enorm = 2.0 / (mel_freqs[2:mel_filter_num+2] - mel_freqs[:mel_filter_num])\n",
        "    filters *= enorm[:, np.newaxis]\n",
        "    audio_filtered = np.dot(filters, np.transpose(audio_power))\n",
        "    eps = 10**(-16)\n",
        "    for l in range(audio_filtered.shape[0]):\n",
        "      for m in range(audio_filtered.shape[1]):\n",
        "        if(audio_filtered[l][m] == 0.0):\n",
        "          audio_filtered[l][m] = eps\n",
        "    audio_log = 10.0 * np.log10(audio_filtered)\n",
        "    dct_filter_num = num_mfcc\n",
        "\n",
        "    dct_filters = dct(dct_filter_num, mel_filter_num)\n",
        "\n",
        "    cepstral_coefficents = np.dot(dct_filters, audio_log)\n",
        "    cepstral_coefficents = np.mean(cepstral_coefficents, axis=1)\n",
        "    cep_features = cepstral_coefficents\n",
        "    #cep_features = np.append(cepstral_coefficents,np.sum(cepstral_coefficents**2))\n",
        "    delta = np.gradient(cep_features)\n",
        "    delta_delta = np.gradient(delta)\n",
        "\n",
        "    if(i == 0):\n",
        "      if(male_data.size == 0):\n",
        "        male_data = np.hstack((cep_features,delta,delta_delta))\n",
        "      else:\n",
        "        male_data = np.row_stack((male_data,np.hstack((cep_features,delta,delta_delta))))\n",
        "    elif(i == 1):\n",
        "      if(female_data.size == 0):\n",
        "        female_data = np.hstack((cep_features,delta,delta_delta))\n",
        "      else:\n",
        "        female_data = np.row_stack((female_data,np.hstack((cep_features,delta,delta_delta))))"
      ],
      "execution_count": 105,
      "outputs": [
        {
          "output_type": "stream",
          "text": [
            "/usr/local/lib/python3.6/dist-packages/ipykernel_launcher.py:7: WavFileWarning: Chunk (non-data) not understood, skipping it.\n",
            "  import sys\n",
            "/usr/local/lib/python3.6/dist-packages/ipykernel_launcher.py:7: WavFileWarning: Reached EOF prematurely; finished at 376068 bytes, expected 632876 bytes from header.\n",
            "  import sys\n",
            "/usr/local/lib/python3.6/dist-packages/ipykernel_launcher.py:7: WavFileWarning: Reached EOF prematurely; finished at 226988 bytes, expected 226996 bytes from header.\n",
            "  import sys\n",
            "/usr/local/lib/python3.6/dist-packages/ipykernel_launcher.py:7: WavFileWarning: Reached EOF prematurely; finished at 1394556 bytes, expected 1394564 bytes from header.\n",
            "  import sys\n"
          ],
          "name": "stderr"
        },
        {
          "output_type": "stream",
          "text": [
            "(12,)\n",
            "(12,)\n"
          ],
          "name": "stdout"
        }
      ]
    },
    {
      "cell_type": "markdown",
      "metadata": {
        "colab_type": "text",
        "id": "VVydCw1XF-5-"
      },
      "source": [
        "# **Classifier and Related Functions Definitions**\n",
        "\n",
        "Following three classifiers are used:\n",
        "1. Gaussian Naive Bayes\n",
        "2. k Nearest Neighbours\n",
        "3. Perceptron Model (sigmoid neuron)\n",
        "\n",
        "The accuracy scores are used as metric for comparing classifier efficieny. "
      ]
    },
    {
      "cell_type": "markdown",
      "metadata": {
        "colab_type": "text",
        "id": "f1P824fXGWlK"
      },
      "source": [
        "# Gaussian Naive Bayes"
      ]
    },
    {
      "cell_type": "code",
      "metadata": {
        "colab_type": "code",
        "id": "jt_KGbygFYR-",
        "colab": {}
      },
      "source": [
        "def gaussian_function(x,m,s):\n",
        "  x = np.array(x);\n",
        "  m = np.array(m);\n",
        "  s = np.array(s);\n",
        "  k = m.size;\n",
        "  factor = 1/np.sqrt(((2*np.pi)**k)*np.linalg.det(s));\n",
        "  ret_arr = []\n",
        "  for i in range(x.shape[0]):\n",
        "    exponent = (-0.5) * np.matmul(np.matmul((x[i]-m),np.linalg.inv(s)),(x[i]-m).T);\n",
        "    ret_arr.append(np.exp(exponent))\n",
        "\n",
        "  return factor*np.array(ret_arr)\n",
        "\n",
        "def naive_bayes_classifier(x,name=None):\n",
        "  x = np.array(x)\n",
        "  z = []\n",
        "  if(name == None):\n",
        "    for i in range(x.shape[0]):\n",
        "      z.append(np.argmax(x[i])+1)\n",
        "  else:\n",
        "    for i in range(x.shape[0]):\n",
        "      z.append(name[np.argmax(x[i])])\n",
        "  return z\n",
        "\n",
        "def get_accuracy(x,y):\n",
        "  x = np.array(x)\n",
        "  y = np.array(y)\n",
        "  accuracy = 0.0\n",
        "  for i in range(x.size):\n",
        "    if(x[i] == y[i]):\n",
        "      accuracy += 1;\n",
        "  return (accuracy/x.size)*100;\n",
        "  \n",
        "def MLE_BDT(male_train_data, female_train_data, test_data, test_classes, p, whitener=True): # P = [0.7,0.3], p = [1/3,1/3,1/3]\n",
        "  \n",
        "  if(whitener == True):\n",
        "    male_train_data = whiten(male_train_data)\n",
        "    female_train_data = whiten(female_train_data)\n",
        "\n",
        "  m = np.array([np.mean(male_train_data, axis=0), np.mean(female_train_data, axis=0)])\n",
        "\n",
        "  s = np.zeros((2,male_train_data.shape[1]))\n",
        "  for i in range(2):\n",
        "    for j in range(male_train_data.shape[1]):\n",
        "      if(i == 0):\n",
        "        s[i][j] = np.var(male_train_data.T[j])\n",
        "      elif(i == 1):\n",
        "        s[i][j] = np.var(female_train_data.T[j])\n",
        "\n",
        "  s = np.array([np.diag(s[0]),np.diag(s[1])])\n",
        "\n",
        "  p_x_0 = gaussian_function(np.concatenate((male_train_data,female_train_data)),m[0],s[0])\n",
        "  p_x_1 = gaussian_function(np.concatenate((male_train_data,female_train_data)),m[1],s[1])\n",
        "\n",
        "  p_0_x = (p_x_0*p[0])/(p_x_0*p[0] + p_x_1*p[1])\n",
        "  p_1_x = (p_x_1*p[1])/(p_x_0*p[0] + p_x_1*p[1])\n",
        "\n",
        "  train_pred = naive_bayes_classifier(\\\n",
        "    np.column_stack((p_0_x,p_1_x)))\n",
        "\n",
        "  train_accuracy = get_accuracy(train_pred, np.hstack((np.zeros(male_train_data.shape[0]),np.ones(female_train_data.shape[0]))))\n",
        "\n",
        "  print(\"Accuracy of model on training set is: {}%\".format(train_accuracy))\n",
        "\n",
        "  p_x_0 = gaussian_function(test_data,m[0],s[0])\n",
        "  p_x_1 = gaussian_function(test_data,m[1],s[1])\n",
        "\n",
        "  p_0_x = (p_x_0*p[0])/(p_x_0*p[0] + p_x_1*p[1])\n",
        "  p_1_x = (p_x_1*p[1])/(p_x_0*p[0] + p_x_1*p[1])\n",
        "\n",
        "  test_pred = naive_bayes_classifier(\\\n",
        "    np.column_stack((p_0_x,p_1_x)))\n",
        "\n",
        "  test_accuracy = get_accuracy(test_pred, test_classes)\n",
        "\n",
        "  print(\"Accuracy of model on testing set is: {}%\".format(test_accuracy))\n"
      ],
      "execution_count": 0,
      "outputs": []
    },
    {
      "cell_type": "markdown",
      "metadata": {
        "colab_type": "text",
        "id": "-UZw_-dMGL_r"
      },
      "source": [
        "## Enter the fraction of dataset to be used for testing purpose"
      ]
    },
    {
      "cell_type": "code",
      "metadata": {
        "colab_type": "code",
        "id": "cYp1sP0kGHgQ",
        "colab": {}
      },
      "source": [
        "test_split_frac_GNB = 0.3"
      ],
      "execution_count": 0,
      "outputs": []
    },
    {
      "cell_type": "code",
      "metadata": {
        "colab_type": "code",
        "id": "-bCp6b662wiW",
        "colab": {}
      },
      "source": [
        "male_train, male_test = train_test_split(male_data, test_size = test_split_frac_GNB)\n",
        "female_train, female_test = train_test_split(female_data, test_size = test_split_frac_GNB)"
      ],
      "execution_count": 0,
      "outputs": []
    },
    {
      "cell_type": "code",
      "metadata": {
        "colab_type": "code",
        "id": "j_5onl4QGQBl",
        "colab": {}
      },
      "source": [
        "test_data = np.vstack((male_test, female_test))\n",
        "test_classes = np.hstack((np.zeros(male_test.shape[0]), np.ones(female_test.shape[0])))"
      ],
      "execution_count": 0,
      "outputs": []
    },
    {
      "cell_type": "code",
      "metadata": {
        "colab_type": "code",
        "id": "U_6Sr_YrG5Ik",
        "outputId": "582c393d-4418-4638-b8c1-021a41b16064",
        "colab": {
          "base_uri": "https://localhost:8080/"
        }
      },
      "source": [
        "MLE_BDT(male_train, female_train, test_data, test_classes, [0.5,0.5], whitener=False)"
      ],
      "execution_count": 0,
      "outputs": [
        {
          "output_type": "stream",
          "text": [
            "Accuracy of model on training set is: 4.285714285714286%\n",
            "Accuracy of model on testing set is: 10.0%\n"
          ],
          "name": "stdout"
        }
      ]
    },
    {
      "cell_type": "markdown",
      "metadata": {
        "colab_type": "text",
        "id": "DB3JL8pTJyow"
      },
      "source": [
        "## **Inferences:**\n",
        "\n",
        "1. We observe that the accuracy on both training and testing data is very poor. As the number of data samples of each class are equal in number, even if we classify all the data as belonging to either class, we must get close to 50% accuracy. \n",
        "  \n",
        "2. Thus, we infer that the assumption of mutual independence of features implicit in the Naive Bayes method, is not satisfied. We hypothesize this to be the reason for poor performance of the classifier. "
      ]
    },
    {
      "cell_type": "markdown",
      "metadata": {
        "colab_type": "text",
        "id": "oewdl_wt4mlK"
      },
      "source": [
        "# k-NN"
      ]
    },
    {
      "cell_type": "markdown",
      "metadata": {
        "colab_type": "text",
        "id": "D_H0fE9YxWjk"
      },
      "source": [
        "## **Theory**\n",
        "\n",
        "KNN Algorithm is based on feature similarity: How closely out-of-sample features resemble our training set determines how we classify a given data point.\n",
        "\n",
        "KNN can be used for classification — the output is a class membership (predicts a class — a discrete value). An object is classified by a majority vote of its neighbors, with the object being assigned to the class most common among its k nearest neighbors. It can also be used for regression — output is the value for the object (predicts continuous values). This value is the average (or median) of the values of its k nearest neighbors. \n",
        "\n",
        "Commonly used distance measures include: Mahalnobis distance, Euclidean distance, etc.,\n",
        "\n",
        "In the classification phase, k is a user-defined constant, and an unlabeled vector (a query or test point) is classified by assigning the label which is most frequent among the k training samples nearest to that query point.\n",
        "\n",
        "**Advantages:**\n",
        "\n",
        "• No assumptions about data — useful, for example, for nonlinear data \n",
        "\n",
        "• Simple algorithm — to explain and understand/interpret \n",
        "\n",
        "• High accuracy (relatively) — it is pretty high but not competitive in comparison to better supervised learning models \n",
        "\n",
        "• Versatile — useful for classification or regression \n",
        " \n",
        "**Disadvantages:** \n",
        "\n",
        "• Computationally expensive — because the algorithm stores all of the training data \n",
        "\n",
        "• High memory requirement \n",
        "\n",
        "• Stores all (or almost all) of the training data \n",
        "\n",
        "• Prediction stage might be slow (with big N) \n",
        "\n",
        "• Sensitive to irrelevant features and the scale of the data\n",
        "\n"
      ]
    },
    {
      "cell_type": "code",
      "metadata": {
        "colab_type": "code",
        "id": "2uAAFLW-2sM0",
        "colab": {}
      },
      "source": [
        "def euclideanDistance(x,y):\n",
        "  distance = 0\n",
        "  for i in range(x.size):\n",
        "    distance += (x[i] - y[i])**2\n",
        "  return np.sqrt(distance)\n",
        "\n",
        "def first_comes_first(arr,x):\n",
        "    arr[1:] = arr[0:-1]\n",
        "    arr[0] = x\n",
        "    return arr\n",
        "\n",
        "def kNN(test_data,train_data,train_class,k):\n",
        "  test_pred = np.zeros(test_data.shape[0])\n",
        "  for i in range(test_data.shape[0]):\n",
        "    dist_arr = np.asarray(np.zeros(k))\n",
        "    nearest = np.asarray(np.zeros(k))\n",
        "    ret_arr = np.array([])\n",
        "    for j in range(k):\n",
        "      dist_arr[j] = euclideanDistance(train_data[j],test_data[i])\n",
        "      nearest[j]=j\n",
        "\n",
        "    for j in range(train_data.shape[0]):\n",
        "      temp_dist = euclideanDistance(test_data[i],train_data[j])\n",
        "      if(temp_dist <= np.amin(dist_arr)):\n",
        "        dist_arr = first_comes_first(dist_arr,temp_dist)\n",
        "        nearest = first_comes_first(nearest,j)\n",
        "\n",
        "    for j in (nearest):\n",
        "      ret_arr = np.append(ret_arr,train_class[int(j)])\n",
        "    ret_arr = np.array([int(q) for q in ret_arr])\n",
        "    test_pred[i] = np.argmax(np.bincount(ret_arr))\n",
        "\n",
        "  return test_pred\n",
        "\n"
      ],
      "execution_count": 0,
      "outputs": []
    },
    {
      "cell_type": "code",
      "metadata": {
        "colab_type": "code",
        "id": "FlCX4afz5XcG",
        "colab": {}
      },
      "source": [
        "def getAccuracy(testSet, predictions):\n",
        "  correct = 0\n",
        "  testSet = np.array(testSet)\n",
        "  for x in range(testSet.shape[0]):\n",
        "    if (testSet[x] == predictions[x]):\n",
        "      correct += 1\n",
        "  return (correct/float(testSet.shape[0])) * 100.0"
      ],
      "execution_count": 0,
      "outputs": []
    },
    {
      "cell_type": "markdown",
      "metadata": {
        "colab_type": "text",
        "id": "q2U2xH9KGq2W"
      },
      "source": [
        "## Enter the fraction of dataset to be used for testing purpose"
      ]
    },
    {
      "cell_type": "code",
      "metadata": {
        "colab_type": "code",
        "id": "goD89dwNGwSI",
        "colab": {}
      },
      "source": [
        "test_split_frac_kNN = 0.2"
      ],
      "execution_count": 0,
      "outputs": []
    },
    {
      "cell_type": "code",
      "metadata": {
        "colab_type": "code",
        "id": "JkVgPeki55lW",
        "colab": {}
      },
      "source": [
        "male_train, male_test = train_test_split(male_data, test_size = test_split_frac_kNN)\n",
        "female_train, female_test = train_test_split(female_data, test_size = test_split_frac_kNN)"
      ],
      "execution_count": 0,
      "outputs": []
    },
    {
      "cell_type": "code",
      "metadata": {
        "colab_type": "code",
        "id": "SpO1RPan4sv9",
        "colab": {}
      },
      "source": [
        "kf = KFold(n_splits=5)\n",
        "acc_arr = np.zeros((5,10))\n",
        "ctr = 0\n",
        "for train_index, test_index in kf.split(male_data):\n",
        "  male_train_data, male_test_data = male_data[train_index], male_data[test_index]\n",
        "  female_train_data, female_test_data = female_data[train_index], female_data[test_index]\n",
        "\n",
        "  test_data = np.concatenate((male_test_data,female_test_data))\n",
        "  test_class = np.append(np.zeros(male_test_data.shape[0]),np.ones(female_test_data.shape[0]))\n",
        "\n",
        "  train_data = np.concatenate((male_train_data, female_train_data))\n",
        "  train_class = np.append(np.zeros(male_train_data.shape[0]),np.ones(female_train_data.shape[0]))\n",
        "  for k in range(10): # we check accuracy when k-NN method is used with k = 1,2,3,4,5,6,7,8,9,10.\n",
        "    test_pred = kNN(test_data, train_data, train_class, k+1)\n",
        "    acc = getAccuracy(test_class, test_pred)\n",
        "    acc_arr[ctr][k] = acc\n",
        "  ctr += 1"
      ],
      "execution_count": 0,
      "outputs": []
    },
    {
      "cell_type": "code",
      "metadata": {
        "colab_type": "code",
        "id": "Jgfoa4vs5mqU",
        "outputId": "69e2d1e0-d973-4f5e-d993-1630e0d44181",
        "colab": {
          "base_uri": "https://localhost:8080/",
          "height": 34
        }
      },
      "source": [
        "np.mean(acc_arr, axis=0) # 5 fold "
      ],
      "execution_count": 0,
      "outputs": [
        {
          "output_type": "execute_result",
          "data": {
            "text/plain": [
              "array([62., 57., 57., 53., 53., 50., 50., 50., 50., 50.])"
            ]
          },
          "metadata": {
            "tags": []
          },
          "execution_count": 20
        }
      ]
    },
    {
      "cell_type": "code",
      "metadata": {
        "colab_type": "code",
        "id": "8ve-0TJepwBd",
        "colab": {}
      },
      "source": [
        "kf = KFold(n_splits=10)\n",
        "acc_arr = np.zeros((10,10))\n",
        "ctr = 0\n",
        "for train_index, test_index in kf.split(male_data):\n",
        "  male_train_data, male_test_data = male_data[train_index], male_data[test_index]\n",
        "  female_train_data, female_test_data = female_data[train_index], female_data[test_index]\n",
        "\n",
        "  test_data = np.concatenate((male_test_data,female_test_data))\n",
        "  test_class = np.append(np.zeros(male_test_data.shape[0]),np.ones(female_test_data.shape[0]))\n",
        "\n",
        "  train_data = np.concatenate((male_train_data, female_train_data))\n",
        "  train_class = np.append(np.zeros(male_train_data.shape[0]),np.ones(female_train_data.shape[0]))\n",
        "  for k in range(10):\n",
        "    test_pred = kNN(test_data, train_data, train_class, k+1)\n",
        "    acc = getAccuracy(test_class, test_pred)\n",
        "    acc_arr[ctr][k] = acc\n",
        "  ctr += 1"
      ],
      "execution_count": 0,
      "outputs": []
    },
    {
      "cell_type": "code",
      "metadata": {
        "colab_type": "code",
        "id": "V6TFPUfx5nqz",
        "outputId": "19c5a68e-65c4-464f-b47f-196c2722879a",
        "colab": {
          "base_uri": "https://localhost:8080/",
          "height": 34
        }
      },
      "source": [
        "np.mean(acc_arr, axis=0) # 10 fold "
      ],
      "execution_count": 0,
      "outputs": [
        {
          "output_type": "execute_result",
          "data": {
            "text/plain": [
              "array([67., 58., 58., 54., 54., 52., 52., 50., 50., 50.])"
            ]
          },
          "metadata": {
            "tags": []
          },
          "execution_count": 22
        }
      ]
    },
    {
      "cell_type": "markdown",
      "metadata": {
        "colab_type": "text",
        "id": "sDn45c-lKzcN"
      },
      "source": [
        "## **Inferences:**\n",
        "\n",
        "1. We observe that the accuracy on both training and testing data is better than that obtained using Gaussian Naive Bayes classifier but still poor. \n",
        "\n",
        "2. We observe that the accuracy drops with increase in the k value in the k-NN method and nearly satuartes as k value approaches 10.\n",
        "  \n",
        "3. Here, we have used k-fold cross validation to remove bias due to inital seeding of the training and testing samples. Then, we have computed the mean values of accuracy across the k-fold values."
      ]
    },
    {
      "cell_type": "markdown",
      "metadata": {
        "id": "g_ptkJOSQXCW",
        "colab_type": "text"
      },
      "source": [
        "# **FFNN**"
      ]
    },
    {
      "cell_type": "code",
      "metadata": {
        "id": "cHp66MJlQ_Yi",
        "colab_type": "code",
        "colab": {}
      },
      "source": [
        "scaler = StandardScaler()\n",
        "male_scaled_data = scaler.fit_transform(male_data)\n",
        "female_scaled_data = scaler.fit_transform(female_data)\n",
        "male_train, male_test = train_test_split(male_scaled_data, test_size = 0.3)\n",
        "female_train, female_test = train_test_split(female_scaled_data, test_size = 0.3)\n",
        "train_data = np.row_stack((male_train, female_train))\n",
        "train_class = np.append(np.zeros(male_train.shape[0]),np.ones(female_train.shape[0]))\n",
        "test_data = np.row_stack((male_test, female_test))\n",
        "test_class = np.append(np.zeros(male_test.shape[0]),np.ones(female_test.shape[0]))"
      ],
      "execution_count": 0,
      "outputs": []
    },
    {
      "cell_type": "code",
      "metadata": {
        "id": "r0WNPdHOS02q",
        "colab_type": "code",
        "colab": {}
      },
      "source": [
        "enc = OneHotEncoder()\n",
        "Y_OH_train = enc.fit_transform(np.expand_dims(train_class,1)).toarray()\n",
        "Y_OH_val = enc.fit_transform(np.expand_dims(test_class,1)).toarray()"
      ],
      "execution_count": 0,
      "outputs": []
    },
    {
      "cell_type": "code",
      "metadata": {
        "id": "szVZVz_2TEFI",
        "colab_type": "code",
        "colab": {}
      },
      "source": [
        "X_train_scaled, Y_train,Y_OH_train, X_val_scaled, Y_val,Y_OH_val = map(torch.tensor, (train_data, train_class,Y_OH_train, test_data, test_class,Y_OH_val))\n",
        "\n",
        "X_train_scaled = X_train_scaled.float()\n",
        "Y_train = Y_train.long()\n",
        "\n",
        "X_val_scaled = X_val_scaled.float()\n",
        "Y_val = Y_val.long()\n"
      ],
      "execution_count": 0,
      "outputs": []
    },
    {
      "cell_type": "code",
      "metadata": {
        "id": "RWVieXMSQcdo",
        "colab_type": "code",
        "colab": {}
      },
      "source": [
        "\n",
        "# simply define a silu function\n",
        "def hakuna_matata(x,x0 = 0,a=1):\n",
        "  return 2/(1+torch.exp(-a*(x-x0))) - 1 # use torch.sigmoid to make sure that we created the most efficient implemetation based on builtin PyTorch functions\n",
        "\n",
        "# create a class wrapper from PyTorch nn.Module, so\n",
        "# the function now can be easily used in models\n",
        "class Hakuna_Matata(nn.Module):\n",
        "  def __init__(self,x0=0,a=1):\n",
        "    super().__init__() # init the base class\n",
        "    self.a = a\n",
        "    self.x0 = x0\n",
        "\n",
        "  def forward(self, ip):\n",
        "    return hakuna_matata(ip,self.x0,self.a) # simply apply already implemented SiLU"
      ],
      "execution_count": 0,
      "outputs": []
    },
    {
      "cell_type": "code",
      "metadata": {
        "id": "9RCGPw3ZQqFm",
        "colab_type": "code",
        "colab": {
          "base_uri": "https://localhost:8080/",
          "height": 727
        },
        "outputId": "740e07cf-329f-45b6-c149-7485f0b421b6"
      },
      "source": [
        "class RegularizedLinear(nn.Linear):\n",
        "    def __init__(self, *args, ar_weight=1e-3, l1_weight=1e-3, l2_weight=2, **kwargs):\n",
        "        super(RegularizedLinear, self).__init__(*args, **kwargs)\n",
        "        #self.ar_weight = ar_weight\n",
        "        #self.l1_weight = l1_weight\n",
        "        self.l2_weight = l2_weight\n",
        "        self._losses = {}\n",
        "\n",
        "    def forward(self, input):\n",
        "        output = super(RegularizedLinear, self).forward(input)\n",
        "        #self._losses['activity_regularization'] = (output * output).sum() * self.ar_weight\n",
        "        #self._losses['l1_weight_regularization'] = torch.abs(self.weight).sum() * self.l1_weight\n",
        "        self._losses['l2_weight_regularization'] = torch.abs(torch.mul(self.weight,self.weight)).sum() * self.l2_weight\n",
        "        return output\n",
        "\n",
        "class FFNNetwork_Regularized(nn.Module):\n",
        "  def __init__(self):\n",
        "    super().__init__()\n",
        "    torch.manual_seed(0)\n",
        "    self.net = nn.Sequential(\n",
        "        #nn.Dropout(0.2),\n",
        "        RegularizedLinear(54, 250), \n",
        "        nn.BatchNorm1d(250),\n",
        "        #nn.Dropout(0.2),\n",
        "        Hakuna_Matata(-2,1),\n",
        "        #nn.Tanh(),\n",
        "        RegularizedLinear(250,72), \n",
        "        nn.BatchNorm1d(72),\n",
        "        nn.Dropout(0.2),\n",
        "        Hakuna_Matata(-2,1),\n",
        "        #nn.Tanh(),\n",
        "        RegularizedLinear(72, 2), \n",
        "        nn.BatchNorm1d(2),\n",
        "        #nn.Dropout(0.1),\n",
        "        Hakuna_Matata(-2,1),\n",
        "        #nn.Tanh(),   \n",
        "        #RegularizedLinear(n_persons, n_persons), \n",
        "        #nn.BatchNorm1d(n_persons),\n",
        "#        nn.Dropout(0.1),\n",
        "        #Hakuna_Matata(-1,1),\n",
        "        #nn.Tanh(),   \n",
        "        nn.Softmax()\n",
        "    )\n",
        "\n",
        "  def forward(self, X):\n",
        "    return self.net(X)\n",
        "\n",
        "  def softmax(self,x):\n",
        "    return torch.exp(x)/torch.sum(torch.exp(x))\n",
        "\n",
        "  def cross_entropy(self,pred,label):\n",
        "    yl=torch.mul(pred,label)\n",
        "    yl=yl[yl!=0]\n",
        "    yl=-torch.log(yl)\n",
        "    yl=torch.mean(yl)\n",
        "    return yl\n",
        "\n",
        "  def accuracy(self,y_hat, y):\n",
        "    pred = torch.argmax(y_hat, dim=1)\n",
        "    return (pred == torch.argmax(y, dim=1)).float().mean()\n",
        "\n",
        "  def predict(self, X):\n",
        "    Y_pred = self.forward(x)\n",
        "    return np.array(Y_pred).squeeze()\n",
        "  \n",
        "  def accuracy_n(self,y_hat, y,topk=(1,)):\n",
        "    maxk = max(topk)\n",
        "    batch_size = y.size(0)\n",
        "\n",
        "    _, pred = y_hat.topk(maxk, 1, True, True)\n",
        "    pred = pred.t()\n",
        "    correct = pred.eq(torch.argmax(y, dim=1).view(1, -1).expand_as(pred))\n",
        "\n",
        "    res = []\n",
        "    for k in topk:\n",
        "        correct_k = correct[:k].view(-1).float().sum(0)\n",
        "        res.append(correct_k.mul_(100.0 / batch_size))\n",
        "  \n",
        "    return res\n",
        "\n",
        "Y_pred_FFNN, accuracy_FFNN, model = run_FFNN(X_train_scaled,X_val_scaled,Y_OH_train,Y_OH_val,Epochs=1100,save_fig=True)"
      ],
      "execution_count": 111,
      "outputs": [
        {
          "output_type": "stream",
          "text": [
            "/usr/local/lib/python3.6/dist-packages/torch/nn/modules/container.py:100: UserWarning: Implicit dimension choice for softmax has been deprecated. Change the call to include dim=X as an argument.\n",
            "  input = module(input)\n"
          ],
          "name": "stderr"
        },
        {
          "output_type": "stream",
          "text": [
            "Loss before training 0.71792187710212\n",
            "Loss after training 0.128775506873364\n",
            "Time for training model: 4.183s\n",
            "Training Accuracy (top-1): 100.0\n",
            "Testing Accuracy (top-1): 70.0\n",
            "\n",
            "\n"
          ],
          "name": "stdout"
        },
        {
          "output_type": "display_data",
          "data": {
            "image/png": "[encoded data removed]",
            "text/plain": [
              "<Figure size 432x288 with 1 Axes>"
            ]
          },
          "metadata": {
            "tags": [],
            "needs_background": "light"
          }
        },
        {
          "output_type": "display_data",
          "data": {
            "image/png": "[encoded data removed]",
            "text/plain": [
              "<Figure size 432x288 with 2 Axes>"
            ]
          },
          "metadata": {
            "tags": [],
            "needs_background": "light"
          }
        }
      ]
    },
    {
      "cell_type": "markdown",
      "metadata": {
        "id": "_QLnbzOm42St",
        "colab_type": "text"
      },
      "source": [
        "## Saving Model"
      ]
    },
    {
      "cell_type": "code",
      "metadata": {
        "id": "Q2BAZE_q41zw",
        "colab_type": "code",
        "colab": {}
      },
      "source": [
        "torch.save(model.state_dict(),path+\"/Outputs/CLASS_FFNNetwork.txt\")"
      ],
      "execution_count": 0,
      "outputs": []
    },
    {
      "cell_type": "code",
      "metadata": {
        "id": "QVvBCKbQ7fue",
        "colab_type": "code",
        "outputId": "fd0d6c39-5f9f-45ea-d57e-394f42ae4ed9",
        "colab": {
          "base_uri": "https://localhost:8080/",
          "height": 1000
        }
      },
      "source": [
        "k=5\n",
        "kf = KFold(n_splits=k)\n",
        "scaler = StandardScaler()\n",
        "male_scaled_data = scaler.fit_transform(male_data)\n",
        "female_scaled_data = scaler.fit_transform(female_data)\n",
        "ctr = 1\n",
        "for train_index, test_index in kf.split(male_scaled_data):\n",
        "  print(ctr)\n",
        "  male_train, male_test = male_scaled_data[train_index], male_scaled_data[test_index]\n",
        "  female_train, female_test = female_scaled_data[train_index], female_scaled_data[test_index]\n",
        "\n",
        "  train_data = np.row_stack((male_train, female_train))\n",
        "  train_class = np.append(np.zeros(male_train.shape[0]),np.ones(female_train.shape[0]))\n",
        "  test_data = np.row_stack((male_test, female_test))\n",
        "  test_class = np.append(np.zeros(male_test.shape[0]),np.ones(female_test.shape[0]))\n",
        "  \n",
        "  enc = OneHotEncoder()\n",
        "  Y_OH_train = enc.fit_transform(np.expand_dims(train_class,1)).toarray()\n",
        "  Y_OH_val = enc.fit_transform(np.expand_dims(test_class,1)).toarray()\n",
        "\n",
        "  X_train_scaled, Y_train,Y_OH_train, X_val_scaled, Y_val,Y_OH_val = map(torch.tensor, (train_data, train_class,Y_OH_train, test_data, test_class,Y_OH_val))\n",
        "\n",
        "  X_train_scaled = X_train_scaled.float()\n",
        "  Y_train = Y_train.long()\n",
        "\n",
        "  X_val_scaled = X_val_scaled.float()\n",
        "  Y_val = Y_val.long()\n",
        "  Y_pred_FFNN, accuracy_FFNN, model = run_FFNN(X_train_scaled,X_val_scaled,Y_OH_train,Y_OH_val,Epochs=5000,save_fig=True,save_name=\"{}\".format(ctr),save_dir=path+'Outputs/')\n",
        "  del X_train_scaled, Y_train,Y_OH_train, X_val_scaled, Y_val,Y_OH_val\n",
        "  torch.cuda.empty_cache()\n",
        "  torch.save(model.state_dict(),path+\"/Outputs/CLASS_FFNNetwork_{}.txt\".format(ctr))\n",
        "  ctr += 1"
      ],
      "execution_count": 0,
      "outputs": [
        {
          "output_type": "stream",
          "text": [
            "1\n"
          ],
          "name": "stdout"
        },
        {
          "output_type": "stream",
          "text": [
            "/usr/local/lib/python3.6/dist-packages/torch/nn/modules/container.py:100: UserWarning: Implicit dimension choice for softmax has been deprecated. Change the call to include dim=X as an argument.\n",
            "  input = module(input)\n"
          ],
          "name": "stderr"
        },
        {
          "output_type": "stream",
          "text": [
            "Loss before training 0.6971744589426531\n",
            "Loss after training 0.1273631098897005\n",
            "Time for training model: 18.846s\n",
            "Training Accuracy (top-1): 100.0\n",
            "Testing Accuracy (top-1): 75.0\n",
            "\n",
            "\n",
            "2\n"
          ],
          "name": "stdout"
        },
        {
          "output_type": "stream",
          "text": [
            "/usr/local/lib/python3.6/dist-packages/torch/nn/modules/container.py:100: UserWarning: Implicit dimension choice for softmax has been deprecated. Change the call to include dim=X as an argument.\n",
            "  input = module(input)\n"
          ],
          "name": "stderr"
        },
        {
          "output_type": "stream",
          "text": [
            "Loss before training 0.6939426874376133\n",
            "Loss after training 0.12734952482387873\n",
            "Time for training model: 18.747s\n",
            "Training Accuracy (top-1): 100.0\n",
            "Testing Accuracy (top-1): 60.0\n",
            "\n",
            "\n",
            "3\n"
          ],
          "name": "stdout"
        },
        {
          "output_type": "stream",
          "text": [
            "/usr/local/lib/python3.6/dist-packages/torch/nn/modules/container.py:100: UserWarning: Implicit dimension choice for softmax has been deprecated. Change the call to include dim=X as an argument.\n",
            "  input = module(input)\n"
          ],
          "name": "stderr"
        },
        {
          "output_type": "stream",
          "text": [
            "Loss before training 0.7111253943783514\n",
            "Loss after training 0.12735627124692317\n",
            "Time for training model: 18.656s\n",
            "Training Accuracy (top-1): 100.0\n",
            "Testing Accuracy (top-1): 55.0\n",
            "\n",
            "\n",
            "4\n"
          ],
          "name": "stdout"
        },
        {
          "output_type": "stream",
          "text": [
            "/usr/local/lib/python3.6/dist-packages/torch/nn/modules/container.py:100: UserWarning: Implicit dimension choice for softmax has been deprecated. Change the call to include dim=X as an argument.\n",
            "  input = module(input)\n"
          ],
          "name": "stderr"
        },
        {
          "output_type": "stream",
          "text": [
            "Loss before training 0.6878698316914797\n",
            "Loss after training 0.12735771755379252\n",
            "Time for training model: 18.588s\n",
            "Training Accuracy (top-1): 100.0\n",
            "Testing Accuracy (top-1): 70.0\n",
            "\n",
            "\n",
            "5\n"
          ],
          "name": "stdout"
        },
        {
          "output_type": "stream",
          "text": [
            "/usr/local/lib/python3.6/dist-packages/torch/nn/modules/container.py:100: UserWarning: Implicit dimension choice for softmax has been deprecated. Change the call to include dim=X as an argument.\n",
            "  input = module(input)\n"
          ],
          "name": "stderr"
        },
        {
          "output_type": "stream",
          "text": [
            "Loss before training 0.6780350295230593\n",
            "Loss after training 0.12735544350700176\n",
            "Time for training model: 19.219s\n",
            "Training Accuracy (top-1): 100.0\n",
            "Testing Accuracy (top-1): 70.0\n",
            "\n",
            "\n"
          ],
          "name": "stdout"
        },
        {
          "output_type": "display_data",
          "data": {
            "image/png": "[encoded data removed]",
            "text/plain": [
              "<Figure size 432x288 with 1 Axes>"
            ]
          },
          "metadata": {
            "tags": [],
            "needs_background": "light"
          }
        },
        {
          "output_type": "display_data",
          "data": {
            "image/png": "[encoded data removed]",
            "text/plain": [
              "<Figure size 432x288 with 2 Axes>"
            ]
          },
          "metadata": {
            "tags": [],
            "needs_background": "light"
          }
        },
        {
          "output_type": "display_data",
          "data": {
            "image/png": "[encoded data removed]",
            "text/plain": [
              "<Figure size 432x288 with 2 Axes>"
            ]
          },
          "metadata": {
            "tags": [],
            "needs_background": "light"
          }
        },
        {
          "output_type": "display_data",
          "data": {
            "image/png": "[encoded data removed]",
            "text/plain": [
              "<Figure size 432x288 with 2 Axes>"
            ]
          },
          "metadata": {
            "tags": [],
            "needs_background": "light"
          }
        },
        {
          "output_type": "display_data",
          "data": {
            "image/png": "[encoded data removed]",
            "text/plain": [
              "<Figure size 432x288 with 2 Axes>"
            ]
          },
          "metadata": {
            "tags": [],
            "needs_background": "light"
          }
        },
        {
          "output_type": "display_data",
          "data": {
            "image/png": "[encoded data removed]",
            "text/plain": [
              "<Figure size 432x288 with 2 Axes>"
            ]
          },
          "metadata": {
            "tags": [],
            "needs_background": "light"
          }
        }
      ]
    },
    {
      "cell_type": "markdown",
      "metadata": {
        "colab_type": "text",
        "id": "q9b5gFak7-jt"
      },
      "source": [
        "# Perceptron Model (using sigmoid neuron)"
      ]
    },
    {
      "cell_type": "code",
      "metadata": {
        "colab_type": "code",
        "id": "Jojzr79N-SF7",
        "colab": {}
      },
      "source": [
        "class SigmoidNeuron:\n",
        "  \n",
        "  def __init__(self):\n",
        "    self.w = None\n",
        "    self.b = None\n",
        "    \n",
        "  def perceptron(self, x):\n",
        "    return np.dot(x, self.w.T) + self.b\n",
        "  \n",
        "  def sigmoid(self, x):\n",
        "    return 1.0/(1.0 + np.exp(-x))\n",
        "  \n",
        "  def grad_w(self, x, y):\n",
        "    y_pred = self.sigmoid(self.perceptron(x))\n",
        "    return (y_pred - y) * y_pred * (1 - y_pred) * x\n",
        "  \n",
        "  def grad_b(self, x, y):\n",
        "    y_pred = self.sigmoid(self.perceptron(x))\n",
        "    return (y_pred - y) * y_pred * (1 - y_pred)\n",
        "  \n",
        "  def fit(self, X, Y, epochs=1, learning_rate=1, initialise=True, save_loss_plot=False, name=None):\n",
        "    \n",
        "    # initialise w, b\n",
        "    if initialise:\n",
        "      self.w = np.random.randn(1, X.shape[1])\n",
        "      self.b = 0\n",
        "      \n",
        "    if save_loss_plot:\n",
        "      loss = np.array([])\n",
        "    \n",
        "    for i in tqdm_notebook(range(epochs), total=epochs, unit=\"epoch\"):\n",
        "      dw = 0\n",
        "      db = 0\n",
        "      for x, y in zip(X, Y):\n",
        "        dw += self.grad_w(x, y)\n",
        "        db += self.grad_b(x, y)       \n",
        "      self.w -= learning_rate * dw\n",
        "      self.b -= learning_rate * db\n",
        "      \n",
        "      if save_loss_plot:\n",
        "        Y_pred = self.sigmoid(self.perceptron(X))\n",
        "        if(loss.size == 0):\n",
        "          loss = np.array([mean_squared_error(Y_pred, Y)])\n",
        "        else:\n",
        "          loss = np.append(loss,mean_squared_error(Y_pred, Y))\n",
        "    \n",
        "    if save_loss_plot:\n",
        "      plt.plot(loss)\n",
        "      plt.xlabel('Epochs')\n",
        "      plt.ylabel('Mean Squared Error')\n",
        "      if(name == None):\n",
        "        plt.savefig(\"loss_plot.png\")  \n",
        "        plt.close()\n",
        "      else:\n",
        "        plt.savefig(\"{}.png\".format(name))\n",
        "        plt.close()\n",
        "  def predict(self, X):\n",
        "    Y_pred = []\n",
        "    for x in X:\n",
        "      y_pred = self.sigmoid(self.perceptron(x))\n",
        "      Y_pred.append(y_pred)\n",
        "    return np.array(Y_pred)"
      ],
      "execution_count": 0,
      "outputs": []
    },
    {
      "cell_type": "code",
      "metadata": {
        "colab_type": "code",
        "id": "GUn96H408Frq",
        "outputId": "0e0105f1-ab30-4880-9a9e-7a398654907c",
        "colab": {
          "base_uri": "https://localhost:8080/",
          "height": 102,
          "referenced_widgets": [
            "81d3c994f3e641d49ad3654d79c1c24e",
            "adf39ad837b640a8b2ece8edeb5b393e",
            "85573fb366514a389e11d1e5013762d6",
            "50623542075547e1b0db96bdd2675c15",
            "66a2bcedd5414ab5b4514bc8b62a1fcb",
            "782cb2780b4a4b259c9491ca2030d5d1",
            "30d25ff9e96a48958d83273af82d4f04",
            "1e902bab9a724023ab7a6b3305667c89"
          ]
        }
      },
      "source": [
        "scaler = StandardScaler()\n",
        "male_scaled_data = scaler.fit_transform(male_data)\n",
        "female_scaled_data = scaler.fit_transform(female_data)\n",
        "male_train, male_test = train_test_split(male_scaled_data, test_size = 0.3)\n",
        "female_train, female_test = train_test_split(female_scaled_data, test_size = 0.3)\n",
        "sn = SigmoidNeuron()\n",
        "train_data = np.row_stack((male_train, female_train))\n",
        "train_class = np.append(np.zeros(male_train.shape[0]),np.ones(female_train.shape[0]))\n",
        "sn.fit(train_data, train_class, epochs=2000, learning_rate=0.015, save_loss_plot=True)"
      ],
      "execution_count": 0,
      "outputs": [
        {
          "output_type": "stream",
          "text": [
            "/usr/local/lib/python3.6/dist-packages/ipykernel_launcher.py:31: TqdmDeprecationWarning: This function will be removed in tqdm==5.0.0\n",
            "Please use `tqdm.notebook.tqdm` instead of `tqdm.tqdm_notebook`\n"
          ],
          "name": "stderr"
        },
        {
          "output_type": "display_data",
          "data": {
            "application/vnd.jupyter.widget-view+json": {
              "model_id": "81d3c994f3e641d49ad3654d79c1c24e",
              "version_major": 2,
              "version_minor": 0
            },
            "text/plain": [
              "HBox(children=(IntProgress(value=0, max=2000), HTML(value='')))"
            ]
          },
          "metadata": {
            "tags": []
          }
        },
        {
          "output_type": "stream",
          "text": [
            "\n"
          ],
          "name": "stdout"
        }
      ]
    },
    {
      "cell_type": "code",
      "metadata": {
        "colab_type": "code",
        "id": "Fn6gHXN4H4-Q",
        "outputId": "ab925c05-89de-4f6d-eff5-74308302fef7",
        "colab": {
          "base_uri": "https://localhost:8080/",
          "height": 52
        }
      },
      "source": [
        "test_data = np.row_stack((male_test, female_test))\n",
        "test_class = np.append(np.zeros(male_test.shape[0]),np.ones(female_test.shape[0]))\n",
        "Y_pred_train = sn.predict(train_data)\n",
        "Y_pred_test = sn.predict(test_data)\n",
        "scaled_threshold = 0.5\n",
        "Y_pred_binarised_train = (Y_pred_train > scaled_threshold).astype(\"int\").ravel()\n",
        "Y_pred_binarised_test = (Y_pred_test > scaled_threshold).astype(\"int\").ravel()\n",
        "accuracy_train = accuracy_score(Y_pred_binarised_train, train_class)\n",
        "accuracy_test  = accuracy_score(Y_pred_binarised_test, test_class)\n",
        "print(\"Accuracy on training data = {} %\".format(accuracy_train*100))\n",
        "print(\"Accuracy on testing data = {} %\".format(accuracy_test*100))\n",
        "#print(accuracy_train*100, accuracy_test)"
      ],
      "execution_count": 0,
      "outputs": [
        {
          "output_type": "stream",
          "text": [
            "Accuracy on training data = 81.42857142857143 %\n",
            "Accuracy on testing data = 53.333333333333336 %\n"
          ],
          "name": "stdout"
        }
      ]
    },
    {
      "cell_type": "markdown",
      "metadata": {
        "colab_type": "text",
        "id": "4qWPjth4KReT"
      },
      "source": [
        "## k-fold cross validation"
      ]
    },
    {
      "cell_type": "markdown",
      "metadata": {
        "colab_type": "text",
        "id": "MJDm46EEHNLN"
      },
      "source": [
        "## Enter k value to be used for k-fold cross validation"
      ]
    },
    {
      "cell_type": "code",
      "metadata": {
        "colab_type": "code",
        "id": "8X07w7TGHLPs",
        "colab": {}
      },
      "source": [
        "k = 10"
      ],
      "execution_count": 0,
      "outputs": []
    },
    {
      "cell_type": "code",
      "metadata": {
        "colab_type": "code",
        "id": "VMfSGzPLDuBW",
        "outputId": "a96310c0-a8a8-4c71-9840-1a9b8ad7c30a",
        "colab": {
          "base_uri": "https://localhost:8080/",
          "height": 1000,
          "referenced_widgets": [
            "e1bfd86e92684468a6923ed11d51d126",
            "ce173568645b44dda78f500c0b578e19",
            "a4588e263f5947998d8261ee00d2329d",
            "ed6ce4b5e1be456f898797cab279f253",
            "02bb2929b3b54217a517002b64898c6b",
            "b396dfe7854e4420a453006b2451a06c",
            "411a8514be70440b82adea77c47929a8",
            "adfa0a7db88c43a6b8ff458ea4d90cff",
            "048e6579e5344775a548b2efcdf5459c",
            "638a04fae7b9443fb7bab64666031a4c",
            "1f96804f06d74ec5b4d3e50edf2f64c6",
            "0976bb5b012145d0a7aa1bb9ef547576",
            "b2da81ca1d7f4fa28addcf421142718c",
            "158c709f192a4b269fc6049cdb4fb970",
            "0dedc4637b79448b9a18a7e7142ee7ee",
            "91eeaae0bde7485cab93bba51797fd50",
            "8f9bfa8e71314b00aca4d902e9f710ad",
            "ea1e54f284d84490bf4c99c303bf9540",
            "b5586ca160ec42cd86434dd1fea7cd31",
            "0705a97d0b3f491e9c35cf83e2816160",
            "6ed007a58f804f6e995ca040521686e1",
            "6c90836ae9e04fc6aaff3b9c14e5182c",
            "172211ed9527409ab50ad91c86e3ae10",
            "c8501ff265da48ccadac1bdd6442c5e4",
            "33f052931cd14bb78d493c9e2b3538f4",
            "66151fc7657643558741222d7721b52e",
            "c0ea39eb4aef4212ad9f8fcbed59a460",
            "bf0f6d7a71804402aff7734ebf086b77",
            "83a00a706e8b48b1b8036e9949f407bf",
            "75669f7726b649efbb9c861eb487eeae",
            "b64194c79be94d66a42741ccedc8d1b9",
            "ba278024f34f4e13a4ff0cd0d863cde3",
            "b87479367e3045eba0b53de3add686e9",
            "b6621ad77382439a8bf21aad59abd44c",
            "db20900b45db48f4a3313da75049f807",
            "4a4396f1fb334205a1d0ad926b13d2fd",
            "487f329197a347278865b3d1bd90aacf",
            "2297ad481ba14dbcb3812f68b761f77b",
            "6f74a609471748f49daa0792b67be2ad",
            "1ec674a5024f4cd8ac85fd519e92daa2",
            "689020dd97ac41b08f9dc5379f232662",
            "2a5f32bcfffb4a9eb2988c7b0bae41a6",
            "c77bf455b38c415fae487092fb3e92f3",
            "264bea6514ee4017b2dd3e3685958185",
            "21aa99057b2146feb6dea09130ee5ece",
            "6dc9ee1560ba4f40803800b1b35e5952",
            "73ff2df3630642b78a65562f4dba37da",
            "ec65fbdb96d346bc9065e80d28497165",
            "f07dc513b98e46c0bfa35ed4a41acc8c",
            "04c8a69915ca4efaa07a79138f65002b",
            "afa5c29e599b4cb3a82344b18790ae47",
            "5327659a24ed4190980e10663bdd0808",
            "c56dbda23f744b0c975587f749fcb706",
            "6dbde4b525fe4d4f9ce90fc3fa23b4e5",
            "93581bbb85b84117acb70ee81551aa83",
            "22ce2b43cac94f859c85b7541138b3b7",
            "4093fdbd000247569135bed22f0f98fe",
            "33f86218d45b477086f6580928a30f78",
            "045be5afe3bd4fbb81e44e458d03bff9",
            "18de171891fb428489e80098e669ddb7",
            "9c0f93d2f3e440e5aa9e1224e627d15e",
            "9095505687fc4a7da846da9a5a6541e8",
            "24322e76c24e47deac3fae4778830c7c",
            "9aa987bcf9684911a2e1cbf525aa798f",
            "84a05cb1bb7448719e5d6f3828273556",
            "b76242f226db4021829668fd4ab0a41e",
            "c20c9479839f4a5e9c76326774ac9334",
            "21a9453d827f466c84c9f3fbabe0088c",
            "71fe153db92b42a4ae87972a767c9bc2",
            "f07fbaaa6d244dbeb26fbd906f5071b2",
            "c74bcd5b71c94512a5e5e10546441e49",
            "2eee735146944978a4f4e611e334591f",
            "cc3b88d0011e43e9ab72faa78104499c",
            "8830438369104887a7abd739cb342fb4",
            "56acd8644e0049119a729cd15965783b",
            "fa854c086df540cb90769c7a6bfa92e0",
            "4a55575a9bd64853bb490385c7daf406",
            "84ab1709adb24c15a2f73ab95891e8d3",
            "48a11622fb684c7d801a1a3ef9c8883d",
            "4686319c27db491488d8fe578ef322b1"
          ]
        }
      },
      "source": [
        "kf = KFold(n_splits=k)\n",
        "scaler = StandardScaler()\n",
        "male_scaled_data = scaler.fit_transform(male_data)\n",
        "female_scaled_data = scaler.fit_transform(female_data)\n",
        "ctr = 0\n",
        "train_accuracy = np.zeros(k)\n",
        "test_accuracy = np.zeros(k)\n",
        "for train_index, test_index in kf.split(male_scaled_data):\n",
        "  male_train, male_test = male_scaled_data[train_index], male_scaled_data[test_index]\n",
        "  female_train, female_test = female_scaled_data[train_index], female_scaled_data[test_index]\n",
        "  sn = SigmoidNeuron()\n",
        "  train_data = np.row_stack((male_train, female_train))\n",
        "  train_class = np.append(np.zeros(male_train.shape[0]),np.ones(female_train.shape[0]))\n",
        "  sn.fit(train_data, train_class, epochs=2000, learning_rate=0.015, save_loss_plot=True,name=\"loss_plot_{}_{}\".format(k,ctr))\n",
        "  test_data = np.row_stack((male_test, female_test))\n",
        "  test_class = np.append(np.zeros(male_test.shape[0]),np.ones(female_test.shape[0]))\n",
        "  Y_pred_train = sn.predict(train_data)\n",
        "  Y_pred_test = sn.predict(test_data)\n",
        "  scaled_threshold = 0.5\n",
        "  Y_pred_binarised_train = (Y_pred_train > scaled_threshold).astype(\"int\").ravel()\n",
        "  Y_pred_binarised_test = (Y_pred_test > scaled_threshold).astype(\"int\").ravel()\n",
        "  accuracy_train = accuracy_score(Y_pred_binarised_train, train_class)\n",
        "  accuracy_test  = accuracy_score(Y_pred_binarised_test, test_class)\n",
        "  print(\"Accuracy on training data = {} %\".format(accuracy_train*100))\n",
        "  print(\"Accuracy on testing data = {} %\".format(accuracy_test*100))\n",
        "  print(\"\\n\")\n",
        "  train_accuracy[ctr] = accuracy_train*100\n",
        "  test_accuracy[ctr] = accuracy_test*100\n",
        "  ctr += 1\n",
        "print(\"Mean Accuracy on training data = {} %\".format(np.mean(train_accuracy)))\n",
        "print(\"Mean Accuracy on testing data = {} %\".format(np.mean(test_accuracy)))"
      ],
      "execution_count": 0,
      "outputs": [
        {
          "output_type": "stream",
          "text": [
            "/usr/local/lib/python3.6/dist-packages/ipykernel_launcher.py:31: TqdmDeprecationWarning: This function will be removed in tqdm==5.0.0\n",
            "Please use `tqdm.notebook.tqdm` instead of `tqdm.tqdm_notebook`\n"
          ],
          "name": "stderr"
        },
        {
          "output_type": "display_data",
          "data": {
            "application/vnd.jupyter.widget-view+json": {
              "model_id": "e1bfd86e92684468a6923ed11d51d126",
              "version_major": 2,
              "version_minor": 0
            },
            "text/plain": [
              "HBox(children=(IntProgress(value=0, max=2000), HTML(value='')))"
            ]
          },
          "metadata": {
            "tags": []
          }
        },
        {
          "output_type": "stream",
          "text": [
            "\n",
            "Accuracy on training data = 80.0 %\n",
            "Accuracy on testing data = 50.0 %\n",
            "\n",
            "\n"
          ],
          "name": "stdout"
        },
        {
          "output_type": "stream",
          "text": [
            "/usr/local/lib/python3.6/dist-packages/ipykernel_launcher.py:31: TqdmDeprecationWarning: This function will be removed in tqdm==5.0.0\n",
            "Please use `tqdm.notebook.tqdm` instead of `tqdm.tqdm_notebook`\n"
          ],
          "name": "stderr"
        },
        {
          "output_type": "display_data",
          "data": {
            "application/vnd.jupyter.widget-view+json": {
              "model_id": "048e6579e5344775a548b2efcdf5459c",
              "version_major": 2,
              "version_minor": 0
            },
            "text/plain": [
              "HBox(children=(IntProgress(value=0, max=2000), HTML(value='')))"
            ]
          },
          "metadata": {
            "tags": []
          }
        },
        {
          "output_type": "stream",
          "text": [
            "\n",
            "Accuracy on training data = 82.22222222222221 %\n",
            "Accuracy on testing data = 60.0 %\n",
            "\n",
            "\n"
          ],
          "name": "stdout"
        },
        {
          "output_type": "stream",
          "text": [
            "/usr/local/lib/python3.6/dist-packages/ipykernel_launcher.py:31: TqdmDeprecationWarning: This function will be removed in tqdm==5.0.0\n",
            "Please use `tqdm.notebook.tqdm` instead of `tqdm.tqdm_notebook`\n"
          ],
          "name": "stderr"
        },
        {
          "output_type": "display_data",
          "data": {
            "application/vnd.jupyter.widget-view+json": {
              "model_id": "8f9bfa8e71314b00aca4d902e9f710ad",
              "version_major": 2,
              "version_minor": 0
            },
            "text/plain": [
              "HBox(children=(IntProgress(value=0, max=2000), HTML(value='')))"
            ]
          },
          "metadata": {
            "tags": []
          }
        },
        {
          "output_type": "stream",
          "text": [
            "\n",
            "Accuracy on training data = 63.33333333333333 %\n",
            "Accuracy on testing data = 20.0 %\n",
            "\n",
            "\n"
          ],
          "name": "stdout"
        },
        {
          "output_type": "stream",
          "text": [
            "/usr/local/lib/python3.6/dist-packages/ipykernel_launcher.py:31: TqdmDeprecationWarning: This function will be removed in tqdm==5.0.0\n",
            "Please use `tqdm.notebook.tqdm` instead of `tqdm.tqdm_notebook`\n"
          ],
          "name": "stderr"
        },
        {
          "output_type": "display_data",
          "data": {
            "application/vnd.jupyter.widget-view+json": {
              "model_id": "33f052931cd14bb78d493c9e2b3538f4",
              "version_major": 2,
              "version_minor": 0
            },
            "text/plain": [
              "HBox(children=(IntProgress(value=0, max=2000), HTML(value='')))"
            ]
          },
          "metadata": {
            "tags": []
          }
        },
        {
          "output_type": "stream",
          "text": [
            "\n",
            "Accuracy on training data = 78.88888888888889 %\n",
            "Accuracy on testing data = 50.0 %\n",
            "\n",
            "\n"
          ],
          "name": "stdout"
        },
        {
          "output_type": "stream",
          "text": [
            "/usr/local/lib/python3.6/dist-packages/ipykernel_launcher.py:31: TqdmDeprecationWarning: This function will be removed in tqdm==5.0.0\n",
            "Please use `tqdm.notebook.tqdm` instead of `tqdm.tqdm_notebook`\n"
          ],
          "name": "stderr"
        },
        {
          "output_type": "display_data",
          "data": {
            "application/vnd.jupyter.widget-view+json": {
              "model_id": "b87479367e3045eba0b53de3add686e9",
              "version_major": 2,
              "version_minor": 0
            },
            "text/plain": [
              "HBox(children=(IntProgress(value=0, max=2000), HTML(value='')))"
            ]
          },
          "metadata": {
            "tags": []
          }
        },
        {
          "output_type": "stream",
          "text": [
            "\n",
            "Accuracy on training data = 75.55555555555556 %\n",
            "Accuracy on testing data = 50.0 %\n",
            "\n",
            "\n"
          ],
          "name": "stdout"
        },
        {
          "output_type": "stream",
          "text": [
            "/usr/local/lib/python3.6/dist-packages/ipykernel_launcher.py:31: TqdmDeprecationWarning: This function will be removed in tqdm==5.0.0\n",
            "Please use `tqdm.notebook.tqdm` instead of `tqdm.tqdm_notebook`\n"
          ],
          "name": "stderr"
        },
        {
          "output_type": "display_data",
          "data": {
            "application/vnd.jupyter.widget-view+json": {
              "model_id": "689020dd97ac41b08f9dc5379f232662",
              "version_major": 2,
              "version_minor": 0
            },
            "text/plain": [
              "HBox(children=(IntProgress(value=0, max=2000), HTML(value='')))"
            ]
          },
          "metadata": {
            "tags": []
          }
        },
        {
          "output_type": "stream",
          "text": [
            "\n",
            "Accuracy on training data = 73.33333333333333 %\n",
            "Accuracy on testing data = 50.0 %\n",
            "\n",
            "\n"
          ],
          "name": "stdout"
        },
        {
          "output_type": "stream",
          "text": [
            "/usr/local/lib/python3.6/dist-packages/ipykernel_launcher.py:31: TqdmDeprecationWarning: This function will be removed in tqdm==5.0.0\n",
            "Please use `tqdm.notebook.tqdm` instead of `tqdm.tqdm_notebook`\n"
          ],
          "name": "stderr"
        },
        {
          "output_type": "display_data",
          "data": {
            "application/vnd.jupyter.widget-view+json": {
              "model_id": "f07dc513b98e46c0bfa35ed4a41acc8c",
              "version_major": 2,
              "version_minor": 0
            },
            "text/plain": [
              "HBox(children=(IntProgress(value=0, max=2000), HTML(value='')))"
            ]
          },
          "metadata": {
            "tags": []
          }
        },
        {
          "output_type": "stream",
          "text": [
            "\n",
            "Accuracy on training data = 81.11111111111111 %\n",
            "Accuracy on testing data = 60.0 %\n",
            "\n",
            "\n"
          ],
          "name": "stdout"
        },
        {
          "output_type": "stream",
          "text": [
            "/usr/local/lib/python3.6/dist-packages/ipykernel_launcher.py:31: TqdmDeprecationWarning: This function will be removed in tqdm==5.0.0\n",
            "Please use `tqdm.notebook.tqdm` instead of `tqdm.tqdm_notebook`\n"
          ],
          "name": "stderr"
        },
        {
          "output_type": "display_data",
          "data": {
            "application/vnd.jupyter.widget-view+json": {
              "model_id": "4093fdbd000247569135bed22f0f98fe",
              "version_major": 2,
              "version_minor": 0
            },
            "text/plain": [
              "HBox(children=(IntProgress(value=0, max=2000), HTML(value='')))"
            ]
          },
          "metadata": {
            "tags": []
          }
        },
        {
          "output_type": "stream",
          "text": [
            "\n",
            "Accuracy on training data = 74.44444444444444 %\n",
            "Accuracy on testing data = 40.0 %\n",
            "\n",
            "\n"
          ],
          "name": "stdout"
        },
        {
          "output_type": "stream",
          "text": [
            "/usr/local/lib/python3.6/dist-packages/ipykernel_launcher.py:31: TqdmDeprecationWarning: This function will be removed in tqdm==5.0.0\n",
            "Please use `tqdm.notebook.tqdm` instead of `tqdm.tqdm_notebook`\n"
          ],
          "name": "stderr"
        },
        {
          "output_type": "display_data",
          "data": {
            "application/vnd.jupyter.widget-view+json": {
              "model_id": "84a05cb1bb7448719e5d6f3828273556",
              "version_major": 2,
              "version_minor": 0
            },
            "text/plain": [
              "HBox(children=(IntProgress(value=0, max=2000), HTML(value='')))"
            ]
          },
          "metadata": {
            "tags": []
          }
        },
        {
          "output_type": "stream",
          "text": [
            "\n",
            "Accuracy on training data = 74.44444444444444 %\n",
            "Accuracy on testing data = 60.0 %\n",
            "\n",
            "\n"
          ],
          "name": "stdout"
        },
        {
          "output_type": "stream",
          "text": [
            "/usr/local/lib/python3.6/dist-packages/ipykernel_launcher.py:31: TqdmDeprecationWarning: This function will be removed in tqdm==5.0.0\n",
            "Please use `tqdm.notebook.tqdm` instead of `tqdm.tqdm_notebook`\n"
          ],
          "name": "stderr"
        },
        {
          "output_type": "display_data",
          "data": {
            "application/vnd.jupyter.widget-view+json": {
              "model_id": "cc3b88d0011e43e9ab72faa78104499c",
              "version_major": 2,
              "version_minor": 0
            },
            "text/plain": [
              "HBox(children=(IntProgress(value=0, max=2000), HTML(value='')))"
            ]
          },
          "metadata": {
            "tags": []
          }
        },
        {
          "output_type": "stream",
          "text": [
            "\n",
            "Accuracy on training data = 76.66666666666667 %\n",
            "Accuracy on testing data = 50.0 %\n",
            "\n",
            "\n",
            "Mean Accuracy on training data = 76.0 %\n",
            "Mean Accuracy on testing data = 49.0 %\n"
          ],
          "name": "stdout"
        }
      ]
    },
    {
      "cell_type": "markdown",
      "metadata": {
        "colab_type": "text",
        "id": "Hhe5ljIaMkWx"
      },
      "source": [
        "## **Inferences:**\n",
        "\n",
        "1. We observe that the average accuracy on training data is best among all the three considered classifiers used, but the average accuracy on testing data is still poor.  \n",
        "\n",
        "2. We observe that the training accuracy is low only for one of the case during k-fold cross validation process. This one bad value has results in drop in mean accuracy value on both training and testing samples. Else, the mean accuracy to better than all the above considered classifiers (>50% accuracy)\n",
        "  \n",
        "3. Here, we have used k-fold cross validation to remove bias due to inital seeding of the training and testing samples. Then, we have computed the mean values of accuracy across the k-fold values."
      ]
    }
  ]
}